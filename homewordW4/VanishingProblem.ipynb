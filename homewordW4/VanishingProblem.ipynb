{
 "cells": [
  {
   "cell_type": "code",
   "execution_count": 1,
   "metadata": {},
   "outputs": [],
   "source": [
    "import numpy as np\n",
    "from tensorflow.keras.layers import Input, LSTM, Dense, SimpleRNN\n",
    "from tensorflow.keras.models import Model\n",
    "from tensorflow.keras.optimizers import Adam\n",
    "from tensorflow.keras.losses import categorical_crossentropy, mean_squared_error\n",
    "from tensorflow.keras.models import Sequential"
   ]
  },
  {
   "cell_type": "code",
   "execution_count": 2,
   "metadata": {},
   "outputs": [],
   "source": [
    "X = np.random.rand(1000000,10,1)"
   ]
  },
  {
   "cell_type": "code",
   "execution_count": 3,
   "metadata": {},
   "outputs": [],
   "source": [
    "y = np.random.randint(0, 10, size=(1000000,1))"
   ]
  },
  {
   "cell_type": "code",
   "execution_count": 4,
   "metadata": {},
   "outputs": [
    {
     "data": {
      "text/plain": [
       "((1000000, 10, 1), (1000000, 1))"
      ]
     },
     "execution_count": 4,
     "metadata": {},
     "output_type": "execute_result"
    }
   ],
   "source": [
    "X.shape, y.shape"
   ]
  },
  {
   "cell_type": "code",
   "execution_count": 5,
   "metadata": {},
   "outputs": [
    {
     "name": "stdout",
     "output_type": "stream",
     "text": [
      "[[8]\n",
      " [6]\n",
      " [6]\n",
      " ...\n",
      " [0]\n",
      " [4]\n",
      " [9]]\n"
     ]
    }
   ],
   "source": [
    "print(y)"
   ]
  },
  {
   "cell_type": "code",
   "execution_count": 6,
   "metadata": {},
   "outputs": [],
   "source": [
    "model = Sequential()\n",
    "model.add(SimpleRNN(10, input_shape = (10,1), activation='tanh', return_sequences=\"False\"))\n",
    "model.add(Dense(1, activation='linear'))\n"
   ]
  },
  {
   "cell_type": "code",
   "execution_count": 7,
   "metadata": {},
   "outputs": [],
   "source": [
    "model.compile(optimizer=Adam(learning_rate=0.001), loss=mean_squared_error, metrics=['accuracy'])"
   ]
  },
  {
   "cell_type": "code",
   "execution_count": 8,
   "metadata": {},
   "outputs": [
    {
     "name": "stdout",
     "output_type": "stream",
     "text": [
      "Epoch 1/50\n",
      "25000/25000 [==============================] - 91s 4ms/step - loss: 8.3672 - accuracy: 0.0999 - val_loss: 8.2373 - val_accuracy: 0.1001\n",
      "Epoch 2/50\n",
      "25000/25000 [==============================] - 46s 2ms/step - loss: 8.2476 - accuracy: 0.0999 - val_loss: 8.2361 - val_accuracy: 0.1001\n",
      "Epoch 3/50\n",
      "25000/25000 [==============================] - 43s 2ms/step - loss: 8.2471 - accuracy: 0.0999 - val_loss: 8.2403 - val_accuracy: 0.1001\n",
      "Epoch 4/50\n",
      "25000/25000 [==============================] - 43s 2ms/step - loss: 8.2475 - accuracy: 0.0999 - val_loss: 8.2411 - val_accuracy: 0.1001\n",
      "Epoch 5/50\n",
      "25000/25000 [==============================] - 44s 2ms/step - loss: 8.2472 - accuracy: 0.0999 - val_loss: 8.2360 - val_accuracy: 0.1001\n",
      "Epoch 6/50\n",
      "25000/25000 [==============================] - 43s 2ms/step - loss: 8.2472 - accuracy: 0.0999 - val_loss: 8.2362 - val_accuracy: 0.1001\n",
      "Epoch 7/50\n",
      "25000/25000 [==============================] - 45s 2ms/step - loss: 8.2471 - accuracy: 0.0999 - val_loss: 8.2360 - val_accuracy: 0.1001\n",
      "Epoch 8/50\n",
      "25000/25000 [==============================] - 58s 2ms/step - loss: 8.2472 - accuracy: 0.0999 - val_loss: 8.2395 - val_accuracy: 0.1001\n",
      "Epoch 9/50\n",
      "25000/25000 [==============================] - 54s 2ms/step - loss: 8.2473 - accuracy: 0.0999 - val_loss: 8.2361 - val_accuracy: 0.1001\n",
      "Epoch 10/50\n",
      "25000/25000 [==============================] - 45s 2ms/step - loss: 8.2473 - accuracy: 0.0999 - val_loss: 8.2581 - val_accuracy: 0.1001\n",
      "Epoch 11/50\n",
      "25000/25000 [==============================] - 45s 2ms/step - loss: 8.2471 - accuracy: 0.0999 - val_loss: 8.2360 - val_accuracy: 0.1001\n",
      "Epoch 12/50\n",
      "25000/25000 [==============================] - 46s 2ms/step - loss: 8.2471 - accuracy: 0.0999 - val_loss: 8.2379 - val_accuracy: 0.1001\n",
      "Epoch 13/50\n",
      "25000/25000 [==============================] - 50s 2ms/step - loss: 8.2473 - accuracy: 0.0999 - val_loss: 8.2391 - val_accuracy: 0.1001\n",
      "Epoch 14/50\n",
      "25000/25000 [==============================] - 51s 2ms/step - loss: 8.2472 - accuracy: 0.0999 - val_loss: 8.2364 - val_accuracy: 0.1001\n",
      "Epoch 15/50\n",
      "25000/25000 [==============================] - 50s 2ms/step - loss: 8.2473 - accuracy: 0.0999 - val_loss: 8.2363 - val_accuracy: 0.1001\n",
      "Epoch 16/50\n",
      "25000/25000 [==============================] - 43s 2ms/step - loss: 8.2474 - accuracy: 0.0999 - val_loss: 8.2360 - val_accuracy: 0.1001\n",
      "Epoch 17/50\n",
      "25000/25000 [==============================] - 42s 2ms/step - loss: 8.2471 - accuracy: 0.0999 - val_loss: 8.2383 - val_accuracy: 0.1001\n",
      "Epoch 18/50\n",
      "25000/25000 [==============================] - 41s 2ms/step - loss: 8.2471 - accuracy: 0.0999 - val_loss: 8.2360 - val_accuracy: 0.1001\n",
      "Epoch 19/50\n",
      "25000/25000 [==============================] - 41s 2ms/step - loss: 8.2473 - accuracy: 0.0999 - val_loss: 8.2370 - val_accuracy: 0.1001\n",
      "Epoch 20/50\n",
      "25000/25000 [==============================] - 42s 2ms/step - loss: 8.2471 - accuracy: 0.0999 - val_loss: 8.2370 - val_accuracy: 0.1001\n",
      "Epoch 21/50\n",
      "25000/25000 [==============================] - 40s 2ms/step - loss: 8.2472 - accuracy: 0.0999 - val_loss: 8.2361 - val_accuracy: 0.1001\n",
      "Epoch 22/50\n",
      "25000/25000 [==============================] - 41s 2ms/step - loss: 8.2471 - accuracy: 0.0999 - val_loss: 8.2407 - val_accuracy: 0.1001\n",
      "Epoch 23/50\n",
      "25000/25000 [==============================] - 41s 2ms/step - loss: 8.2472 - accuracy: 0.0999 - val_loss: 8.2376 - val_accuracy: 0.1001\n",
      "Epoch 24/50\n",
      "25000/25000 [==============================] - 41s 2ms/step - loss: 8.2471 - accuracy: 0.0999 - val_loss: 8.2399 - val_accuracy: 0.1001\n",
      "Epoch 25/50\n",
      "25000/25000 [==============================] - 42s 2ms/step - loss: 8.2473 - accuracy: 0.0999 - val_loss: 8.2361 - val_accuracy: 0.1001\n",
      "Epoch 26/50\n",
      "25000/25000 [==============================] - 60s 2ms/step - loss: 8.2473 - accuracy: 0.0999 - val_loss: 8.2364 - val_accuracy: 0.1001\n",
      "Epoch 27/50\n",
      "25000/25000 [==============================] - 44s 2ms/step - loss: 8.2472 - accuracy: 0.0999 - val_loss: 8.2370 - val_accuracy: 0.1001\n",
      "Epoch 28/50\n",
      "25000/25000 [==============================] - 41s 2ms/step - loss: 8.2469 - accuracy: 0.0999 - val_loss: 8.2362 - val_accuracy: 0.1001\n",
      "Epoch 29/50\n",
      "25000/25000 [==============================] - 49s 2ms/step - loss: 8.2473 - accuracy: 0.0999 - val_loss: 8.2392 - val_accuracy: 0.1001\n",
      "Epoch 30/50\n",
      "25000/25000 [==============================] - 45s 2ms/step - loss: 8.2469 - accuracy: 0.0999 - val_loss: 8.2361 - val_accuracy: 0.1001\n",
      "Epoch 31/50\n",
      "25000/25000 [==============================] - 54s 2ms/step - loss: 8.2471 - accuracy: 0.0999 - val_loss: 8.2360 - val_accuracy: 0.1001\n",
      "Epoch 32/50\n",
      "25000/25000 [==============================] - 49s 2ms/step - loss: 8.2472 - accuracy: 0.0999 - val_loss: 8.2361 - val_accuracy: 0.1001\n",
      "Epoch 33/50\n",
      "25000/25000 [==============================] - 46s 2ms/step - loss: 8.2471 - accuracy: 0.0999 - val_loss: 8.2392 - val_accuracy: 0.1001\n",
      "Epoch 34/50\n",
      "25000/25000 [==============================] - 46s 2ms/step - loss: 8.2471 - accuracy: 0.0999 - val_loss: 8.2373 - val_accuracy: 0.1001\n",
      "Epoch 35/50\n",
      "25000/25000 [==============================] - 45s 2ms/step - loss: 8.2476 - accuracy: 0.0999 - val_loss: 8.2367 - val_accuracy: 0.1001\n",
      "Epoch 36/50\n",
      "25000/25000 [==============================] - 45s 2ms/step - loss: 8.2471 - accuracy: 0.0999 - val_loss: 8.2466 - val_accuracy: 0.1001\n",
      "Epoch 37/50\n",
      "25000/25000 [==============================] - 46s 2ms/step - loss: 8.2473 - accuracy: 0.0999 - val_loss: 8.2389 - val_accuracy: 0.1001\n",
      "Epoch 38/50\n",
      "25000/25000 [==============================] - 46s 2ms/step - loss: 8.2472 - accuracy: 0.0999 - val_loss: 8.2361 - val_accuracy: 0.1001\n",
      "Epoch 39/50\n",
      "25000/25000 [==============================] - 46s 2ms/step - loss: 8.2469 - accuracy: 0.0999 - val_loss: 8.2574 - val_accuracy: 0.1001\n",
      "Epoch 40/50\n",
      "25000/25000 [==============================] - 46s 2ms/step - loss: 8.2470 - accuracy: 0.0999 - val_loss: 8.2364 - val_accuracy: 0.1001\n",
      "Epoch 41/50\n",
      "25000/25000 [==============================] - 45s 2ms/step - loss: 8.2472 - accuracy: 0.0999 - val_loss: 8.2372 - val_accuracy: 0.1001\n",
      "Epoch 42/50\n",
      "25000/25000 [==============================] - 46s 2ms/step - loss: 8.2472 - accuracy: 0.0999 - val_loss: 8.2363 - val_accuracy: 0.1001\n",
      "Epoch 43/50\n",
      "25000/25000 [==============================] - 45s 2ms/step - loss: 8.2466 - accuracy: 0.0999 - val_loss: 8.2362 - val_accuracy: 0.1001\n",
      "Epoch 44/50\n",
      "25000/25000 [==============================] - 46s 2ms/step - loss: 8.2471 - accuracy: 0.0999 - val_loss: 8.2360 - val_accuracy: 0.1001\n",
      "Epoch 45/50\n",
      "25000/25000 [==============================] - 42s 2ms/step - loss: 8.2472 - accuracy: 0.0999 - val_loss: 8.2361 - val_accuracy: 0.1001\n",
      "Epoch 46/50\n",
      "25000/25000 [==============================] - 42s 2ms/step - loss: 8.2468 - accuracy: 0.0999 - val_loss: 8.2371 - val_accuracy: 0.1001\n",
      "Epoch 47/50\n",
      "25000/25000 [==============================] - 42s 2ms/step - loss: 8.2470 - accuracy: 0.0999 - val_loss: 8.2361 - val_accuracy: 0.1001\n",
      "Epoch 48/50\n",
      "25000/25000 [==============================] - 42s 2ms/step - loss: 8.2472 - accuracy: 0.0999 - val_loss: 8.2360 - val_accuracy: 0.1001\n",
      "Epoch 49/50\n",
      "25000/25000 [==============================] - 41s 2ms/step - loss: 8.2472 - accuracy: 0.0999 - val_loss: 8.2368 - val_accuracy: 0.1001\n",
      "Epoch 50/50\n",
      "25000/25000 [==============================] - 42s 2ms/step - loss: 8.2472 - accuracy: 0.0999 - val_loss: 8.2384 - val_accuracy: 0.1001\n"
     ]
    },
    {
     "data": {
      "text/plain": [
       "<keras.callbacks.History at 0x215f72b3eb0>"
      ]
     },
     "execution_count": 8,
     "metadata": {},
     "output_type": "execute_result"
    }
   ],
   "source": [
    "# Train the model\n",
    "model.fit(X, y, validation_split=0.2,epochs=50, batch_size=32)"
   ]
  },
  {
   "cell_type": "code",
   "execution_count": 9,
   "metadata": {},
   "outputs": [],
   "source": [
    "model.save(\"RNN_Vanishing_simple.h5\")"
   ]
  },
  {
   "cell_type": "code",
   "execution_count": 13,
   "metadata": {},
   "outputs": [
    {
     "ename": "TypeError",
     "evalue": "'Sequential' object is not subscriptable",
     "output_type": "error",
     "traceback": [
      "\u001b[1;31m---------------------------------------------------------------------------\u001b[0m",
      "\u001b[1;31mTypeError\u001b[0m                                 Traceback (most recent call last)",
      "Cell \u001b[1;32mIn [13], line 2\u001b[0m\n\u001b[0;32m      1\u001b[0m \u001b[39mimport\u001b[39;00m \u001b[39mmatplotlib\u001b[39;00m\u001b[39m.\u001b[39;00m\u001b[39mpyplot\u001b[39;00m \u001b[39mas\u001b[39;00m \u001b[39mplt\u001b[39;00m \n\u001b[1;32m----> 2\u001b[0m plt\u001b[39m.\u001b[39mplot(model[\u001b[39m'\u001b[39;49m\u001b[39mloss\u001b[39;49m\u001b[39m'\u001b[39;49m])\n\u001b[0;32m      3\u001b[0m plt\u001b[39m.\u001b[39mplot(model[\u001b[39m'\u001b[39m\u001b[39mval_loss\u001b[39m\u001b[39m'\u001b[39m])\n\u001b[0;32m      4\u001b[0m plt\u001b[39m.\u001b[39mtitle(\u001b[39m'\u001b[39m\u001b[39mLSTM Loss\u001b[39m\u001b[39m'\u001b[39m)\n",
      "\u001b[1;31mTypeError\u001b[0m: 'Sequential' object is not subscriptable"
     ]
    }
   ],
   "source": [
    "import matplotlib.pyplot as plt \n",
    "plt.plot(model['loss'])\n",
    "plt.plot(model['val_loss'])\n",
    "plt.title('LSTM Loss')\n",
    "plt.xlabel('Epoch')\n",
    "plt.ylabel('Loss')\n",
    "plt.legend(['Train', 'Validation'], loc='upper right')\n",
    "plt.show()"
   ]
  },
  {
   "cell_type": "code",
   "execution_count": null,
   "metadata": {},
   "outputs": [],
   "source": [
    "plt.plot(history.history['accuracy'])\n",
    "plt.plot(history.history['val_accuracy'])\n",
    "plt.title('model accuracy')\n",
    "plt.ylabel('accuracy')\n",
    "plt.xlabel('epoch')\n",
    "plt.legend(['train', 'test'], loc='upper left')\n",
    "plt.show()"
   ]
  },
  {
   "cell_type": "code",
   "execution_count": 98,
   "metadata": {},
   "outputs": [],
   "source": [
    "from keras.models import load_model\n",
    "load_model('RNN_Vanishing_simple.h5')\n"
   ]
  },
  {
   "cell_type": "code",
   "execution_count": 14,
   "metadata": {},
   "outputs": [],
   "source": [
    "x_test = np.random.rand(20,10,1)\n",
    "y_test = np.random.randint(0,10,size=(20,1))"
   ]
  },
  {
   "cell_type": "code",
   "execution_count": 15,
   "metadata": {},
   "outputs": [],
   "source": [
    "predict = model.predict(x_test)"
   ]
  },
  {
   "cell_type": "code",
   "execution_count": 16,
   "metadata": {},
   "outputs": [
    {
     "data": {
      "text/plain": [
       "(array([[[4.5399656],\n",
       "         [4.55817  ],\n",
       "         [4.5504346],\n",
       "         [4.550281 ],\n",
       "         [4.550481 ],\n",
       "         [4.5502415],\n",
       "         [4.5505342],\n",
       "         [4.5501714],\n",
       "         [4.550603 ],\n",
       "         [4.550099 ]],\n",
       " \n",
       "        [[4.5248103],\n",
       "         [4.543266 ],\n",
       "         [4.550358 ],\n",
       "         [4.550381 ],\n",
       "         [4.5503535],\n",
       "         [4.550385 ],\n",
       "         [4.550338 ],\n",
       "         [4.5503945],\n",
       "         [4.550328 ],\n",
       "         [4.5504255]],\n",
       " \n",
       "        [[4.533065 ],\n",
       "         [4.5514197],\n",
       "         [4.550437 ],\n",
       "         [4.550286 ],\n",
       "         [4.5504646],\n",
       "         [4.550264 ],\n",
       "         [4.5505033],\n",
       "         [4.550215 ],\n",
       "         [4.5505457],\n",
       "         [4.5501494]],\n",
       " \n",
       "        [[4.532558 ],\n",
       "         [4.552067 ],\n",
       "         [4.550419 ],\n",
       "         [4.5503106],\n",
       "         [4.550439 ],\n",
       "         [4.550277 ],\n",
       "         [4.5504646],\n",
       "         [4.5502553],\n",
       "         [4.550517 ],\n",
       "         [4.5502048]],\n",
       " \n",
       "        [[4.5330825],\n",
       "         [4.554866 ],\n",
       "         [4.550422 ],\n",
       "         [4.550308 ],\n",
       "         [4.5504527],\n",
       "         [4.5502825],\n",
       "         [4.550473 ],\n",
       "         [4.5502486],\n",
       "         [4.5505204],\n",
       "         [4.550177 ]],\n",
       " \n",
       "        [[4.5359364],\n",
       "         [4.5552297],\n",
       "         [4.5504255],\n",
       "         [4.5503035],\n",
       "         [4.5504417],\n",
       "         [4.550261 ],\n",
       "         [4.5504956],\n",
       "         [4.550213 ],\n",
       "         [4.550559 ],\n",
       "         [4.550151 ]],\n",
       " \n",
       "        [[4.526564 ],\n",
       "         [4.5487576],\n",
       "         [4.5503902],\n",
       "         [4.550353 ],\n",
       "         [4.5503993],\n",
       "         [4.5503407],\n",
       "         [4.5503955],\n",
       "         [4.5503287],\n",
       "         [4.5504136],\n",
       "         [4.5503235]],\n",
       " \n",
       "        [[4.5353875],\n",
       "         [4.5530753],\n",
       "         [4.5504336],\n",
       "         [4.550282 ],\n",
       "         [4.550476 ],\n",
       "         [4.5502377],\n",
       "         [4.550523 ],\n",
       "         [4.5501776],\n",
       "         [4.5506   ],\n",
       "         [4.5500884]],\n",
       " \n",
       "        [[4.5311255],\n",
       "         [4.552401 ],\n",
       "         [4.5504155],\n",
       "         [4.5503078],\n",
       "         [4.550442 ],\n",
       "         [4.5502844],\n",
       "         [4.5504823],\n",
       "         [4.5502462],\n",
       "         [4.550514 ],\n",
       "         [4.550202 ]],\n",
       " \n",
       "        [[4.5415726],\n",
       "         [4.559695 ],\n",
       "         [4.550445 ],\n",
       "         [4.5502663],\n",
       "         [4.5504766],\n",
       "         [4.5502324],\n",
       "         [4.550532 ],\n",
       "         [4.5501723],\n",
       "         [4.550601 ],\n",
       "         [4.5500903]],\n",
       " \n",
       "        [[4.5324078],\n",
       "         [4.548805 ],\n",
       "         [4.5504274],\n",
       "         [4.550287 ],\n",
       "         [4.5504594],\n",
       "         [4.550263 ],\n",
       "         [4.550494 ],\n",
       "         [4.550223 ],\n",
       "         [4.5505486],\n",
       "         [4.5501533]],\n",
       " \n",
       "        [[4.5254836],\n",
       "         [4.5359397],\n",
       "         [4.5503583],\n",
       "         [4.5503664],\n",
       "         [4.5503683],\n",
       "         [4.550366 ],\n",
       "         [4.550362 ],\n",
       "         [4.550379 ],\n",
       "         [4.5503497],\n",
       "         [4.5503902]],\n",
       " \n",
       "        [[4.528825 ],\n",
       "         [4.55057  ],\n",
       "         [4.5503936],\n",
       "         [4.55032  ],\n",
       "         [4.550431 ],\n",
       "         [4.5502987],\n",
       "         [4.5504527],\n",
       "         [4.550276 ],\n",
       "         [4.5504704],\n",
       "         [4.5502386]],\n",
       " \n",
       "        [[4.5368295],\n",
       "         [4.5543976],\n",
       "         [4.5504365],\n",
       "         [4.550288 ],\n",
       "         [4.5504766],\n",
       "         [4.550249 ],\n",
       "         [4.550507 ],\n",
       "         [4.5502024],\n",
       "         [4.550567 ],\n",
       "         [4.5501356]],\n",
       " \n",
       "        [[4.5380416],\n",
       "         [4.556662 ],\n",
       "         [4.5504494],\n",
       "         [4.5502787],\n",
       "         [4.5504894],\n",
       "         [4.5502224],\n",
       "         [4.5505433],\n",
       "         [4.5501657],\n",
       "         [4.550621 ],\n",
       "         [4.5500803]],\n",
       " \n",
       "        [[4.5264378],\n",
       "         [4.53133  ],\n",
       "         [4.550371 ],\n",
       "         [4.550362 ],\n",
       "         [4.550372 ],\n",
       "         [4.5503716],\n",
       "         [4.5503654],\n",
       "         [4.5503592],\n",
       "         [4.550381 ],\n",
       "         [4.5503674]],\n",
       " \n",
       "        [[4.525818 ],\n",
       "         [4.5311165],\n",
       "         [4.5503707],\n",
       "         [4.5503745],\n",
       "         [4.55037  ],\n",
       "         [4.550373 ],\n",
       "         [4.5503545],\n",
       "         [4.5503798],\n",
       "         [4.550354 ],\n",
       "         [4.550387 ]],\n",
       " \n",
       "        [[4.5280766],\n",
       "         [4.5406637],\n",
       "         [4.5503902],\n",
       "         [4.550335 ],\n",
       "         [4.5504146],\n",
       "         [4.5503063],\n",
       "         [4.5504403],\n",
       "         [4.5502872],\n",
       "         [4.5504775],\n",
       "         [4.5502477]],\n",
       " \n",
       "        [[4.5272903],\n",
       "         [4.542916 ],\n",
       "         [4.5503836],\n",
       "         [4.550348 ],\n",
       "         [4.5504017],\n",
       "         [4.550337 ],\n",
       "         [4.5504065],\n",
       "         [4.5503273],\n",
       "         [4.5504327],\n",
       "         [4.5502844]],\n",
       " \n",
       "        [[4.537593 ],\n",
       "         [4.5533376],\n",
       "         [4.5504375],\n",
       "         [4.550289 ],\n",
       "         [4.5504675],\n",
       "         [4.5502534],\n",
       "         [4.5505033],\n",
       "         [4.5501986],\n",
       "         [4.550577 ],\n",
       "         [4.550126 ]]], dtype=float32),\n",
       " array([[3],\n",
       "        [8],\n",
       "        [0],\n",
       "        [1],\n",
       "        [3],\n",
       "        [1],\n",
       "        [0],\n",
       "        [5],\n",
       "        [0],\n",
       "        [8],\n",
       "        [1],\n",
       "        [8],\n",
       "        [8],\n",
       "        [2],\n",
       "        [9],\n",
       "        [3],\n",
       "        [2],\n",
       "        [4],\n",
       "        [1],\n",
       "        [6]]))"
      ]
     },
     "execution_count": 16,
     "metadata": {},
     "output_type": "execute_result"
    }
   ],
   "source": [
    "predict, y_test"
   ]
  },
  {
   "cell_type": "code",
   "execution_count": 17,
   "metadata": {},
   "outputs": [],
   "source": [
    "inputs = Input(shape=(10,1))"
   ]
  },
  {
   "cell_type": "code",
   "execution_count": 18,
   "metadata": {},
   "outputs": [],
   "source": [
    "lstm1 = LSTM(64, return_sequences=True)(inputs)\n",
    "\n",
    "# Add more LSTM layers to the RNN\n",
    "lstm2 = LSTM(64, return_sequences=True)(lstm1)\n",
    "lstm3 = LSTM(64, return_sequences=True)(lstm2)\n",
    "lstm4 = LSTM(64, return_sequences=False)(lstm3)\n",
    "\n",
    "# Add a Dense layer to the RNN to predict the output\n",
    "outputs = Dense(1, activation='softmax')(lstm4)\n"
   ]
  },
  {
   "cell_type": "code",
   "execution_count": 19,
   "metadata": {},
   "outputs": [],
   "source": [
    "# Define the model and compile it\n",
    "model2 = Model(inputs=inputs, outputs=outputs)\n",
    "model2.compile(optimizer=Adam(learning_rate=0.001), loss=categorical_crossentropy, metrics=['accuracy'])"
   ]
  },
  {
   "cell_type": "code",
   "execution_count": 20,
   "metadata": {},
   "outputs": [
    {
     "name": "stdout",
     "output_type": "stream",
     "text": [
      "Model: \"model\"\n",
      "_________________________________________________________________\n",
      " Layer (type)                Output Shape              Param #   \n",
      "=================================================================\n",
      " input_1 (InputLayer)        [(None, 10, 1)]           0         \n",
      "                                                                 \n",
      " lstm (LSTM)                 (None, 10, 64)            16896     \n",
      "                                                                 \n",
      " lstm_1 (LSTM)               (None, 10, 64)            33024     \n",
      "                                                                 \n",
      " lstm_2 (LSTM)               (None, 10, 64)            33024     \n",
      "                                                                 \n",
      " lstm_3 (LSTM)               (None, 64)                33024     \n",
      "                                                                 \n",
      " dense_1 (Dense)             (None, 1)                 65        \n",
      "                                                                 \n",
      "=================================================================\n",
      "Total params: 116,033\n",
      "Trainable params: 116,033\n",
      "Non-trainable params: 0\n",
      "_________________________________________________________________\n"
     ]
    }
   ],
   "source": [
    "model2.summary()"
   ]
  },
  {
   "cell_type": "code",
   "execution_count": 25,
   "metadata": {},
   "outputs": [
    {
     "name": "stdout",
     "output_type": "stream",
     "text": [
      "Epoch 1/5\n",
      "12500/12500 [==============================] - 366s 29ms/step - loss: 0.0000e+00 - accuracy: 0.0999 - val_loss: 0.0000e+00 - val_accuracy: 0.1001\n",
      "Epoch 2/5\n",
      "12500/12500 [==============================] - 358s 29ms/step - loss: 0.0000e+00 - accuracy: 0.0999 - val_loss: 0.0000e+00 - val_accuracy: 0.1001\n",
      "Epoch 3/5\n",
      "12500/12500 [==============================] - 326s 26ms/step - loss: 0.0000e+00 - accuracy: 0.0999 - val_loss: 0.0000e+00 - val_accuracy: 0.1001\n",
      "Epoch 4/5\n",
      "12500/12500 [==============================] - 286s 23ms/step - loss: 0.0000e+00 - accuracy: 0.0999 - val_loss: 0.0000e+00 - val_accuracy: 0.1001\n",
      "Epoch 5/5\n",
      "12500/12500 [==============================] - 283s 23ms/step - loss: 0.0000e+00 - accuracy: 0.0999 - val_loss: 0.0000e+00 - val_accuracy: 0.1001\n"
     ]
    }
   ],
   "source": [
    "history = model2.fit(X, y, epochs=5, validation_split=0.2 ,batch_size=64)"
   ]
  },
  {
   "cell_type": "code",
   "execution_count": 26,
   "metadata": {},
   "outputs": [],
   "source": [
    "model2.save(\"LSTM_simple.h5\") "
   ]
  },
  {
   "cell_type": "code",
   "execution_count": 27,
   "metadata": {},
   "outputs": [
    {
     "data": {
      "image/png": "[encoded data removed]",
      "text/plain": [
       "<Figure size 640x480 with 1 Axes>"
      ]
     },
     "metadata": {},
     "output_type": "display_data"
    }
   ],
   "source": [
    "import matplotlib.pyplot as plt\n",
    "plt.plot(history.history['loss'])\n",
    "plt.plot(history.history['val_loss'])\n",
    "plt.title('LSTM Loss')\n",
    "plt.xlabel('Epoch')\n",
    "plt.ylabel('Loss')\n",
    "plt.legend(['Train', 'Validation'], loc='upper right')\n",
    "plt.show()"
   ]
  },
  {
   "cell_type": "code",
   "execution_count": 28,
   "metadata": {},
   "outputs": [
    {
     "data": {
      "image/png": "[encoded data removed]",
      "text/plain": [
       "<Figure size 640x480 with 1 Axes>"
      ]
     },
     "metadata": {},
     "output_type": "display_data"
    }
   ],
   "source": [
    "plt.plot(history.history['accuracy'])\n",
    "plt.plot(history.history['val_accuracy'])\n",
    "plt.title('model accuracy')\n",
    "plt.ylabel('accuracy')\n",
    "plt.xlabel('epoch')\n",
    "plt.legend(['train', 'test'], loc='upper left')\n",
    "plt.show()"
   ]
  },
  {
   "cell_type": "code",
   "execution_count": 108,
   "metadata": {},
   "outputs": [
    {
     "name": "stdout",
     "output_type": "stream",
     "text": [
      "WARNING:tensorflow:5 out of the last 5 calls to <function Model.make_predict_function.<locals>.predict_function at 0x000001A0CBB5C040> triggered tf.function retracing. Tracing is expensive and the excessive number of tracings could be due to (1) creating @tf.function repeatedly in a loop, (2) passing tensors with different shapes, (3) passing Python objects instead of tensors. For (1), please define your @tf.function outside of the loop. For (2), @tf.function has experimental_relax_shapes=True option that relaxes argument shapes that can avoid unnecessary retracing. For (3), please refer to https://www.tensorflow.org/guide/function#controlling_retracing and https://www.tensorflow.org/api_docs/python/tf/function for  more details.\n"
     ]
    }
   ],
   "source": [
    "predict = model2.predict(x_test)"
   ]
  },
  {
   "cell_type": "code",
   "execution_count": 110,
   "metadata": {},
   "outputs": [
    {
     "data": {
      "text/plain": [
       "(20, 10, 1)"
      ]
     },
     "execution_count": 110,
     "metadata": {},
     "output_type": "execute_result"
    }
   ],
   "source": [
    "x_test.shape"
   ]
  },
  {
   "cell_type": "code",
   "execution_count": 109,
   "metadata": {},
   "outputs": [
    {
     "data": {
      "text/plain": [
       "array([[1.],\n",
       "       [1.],\n",
       "       [1.],\n",
       "       [1.],\n",
       "       [1.],\n",
       "       [1.],\n",
       "       [1.],\n",
       "       [1.],\n",
       "       [1.],\n",
       "       [1.],\n",
       "       [1.],\n",
       "       [1.],\n",
       "       [1.],\n",
       "       [1.],\n",
       "       [1.],\n",
       "       [1.],\n",
       "       [1.],\n",
       "       [1.],\n",
       "       [1.],\n",
       "       [1.]], dtype=float32)"
      ]
     },
     "execution_count": 109,
     "metadata": {},
     "output_type": "execute_result"
    }
   ],
   "source": [
    "predict"
   ]
  }
 ],
 "metadata": {
  "kernelspec": {
   "display_name": "base",
   "language": "python",
   "name": "python3"
  },
  "language_info": {
   "codemirror_mode": {
    "name": "ipython",
    "version": 3
   },
   "file_extension": ".py",
   "mimetype": "text/x-python",
   "name": "python",
   "nbconvert_exporter": "python",
   "pygments_lexer": "ipython3",
   "version": "3.9.12"
  },
  "orig_nbformat": 4,
  "vscode": {
   "interpreter": {
    "hash": "ca85f3d5db9de62862776f4fd0392e551fe98265378ef31afd18488c1e0e3ec3"
   }
  }
 },
 "nbformat": 4,
 "nbformat_minor": 2
}
