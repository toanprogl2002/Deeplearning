{
 "cells": [
  {
   "cell_type": "markdown",
   "id": "be6576f8",
   "metadata": {
    "papermill": {
     "duration": 0.011153,
     "end_time": "2023-03-11T09:32:03.708929",
     "exception": false,
     "start_time": "2023-03-11T09:32:03.697776",
     "status": "completed"
    },
    "tags": []
   },
   "source": [
    "# 0. Install important libraries"
   ]
  },
  {
   "cell_type": "code",
   "execution_count": 1,
   "id": "893c0542",
   "metadata": {
    "_cell_guid": "b1076dfc-b9ad-4769-8c92-a6c4dae69d19",
    "_uuid": "8f2839f25d086af736a60e9eeb907d3b93b6e0e5",
    "execution": {
     "iopub.execute_input": "2023-03-11T09:32:03.731283Z",
     "iopub.status.busy": "2023-03-11T09:32:03.730405Z",
     "iopub.status.idle": "2023-03-11T09:32:30.277200Z",
     "shell.execute_reply": "2023-03-11T09:32:30.275717Z"
    },
    "papermill": {
     "duration": 26.561148,
     "end_time": "2023-03-11T09:32:30.280167",
     "exception": false,
     "start_time": "2023-03-11T09:32:03.719019",
     "status": "completed"
    },
    "tags": []
   },
   "outputs": [],
   "source": [
    "%%capture\n",
    "# Install libraries\n",
    "!pip install tensorflow keras pillow numpy tqdm underthesea gensim fasttext nltk"
   ]
  },
  {
   "cell_type": "code",
   "execution_count": 2,
   "id": "a83cded8",
   "metadata": {
    "execution": {
     "iopub.execute_input": "2023-03-11T09:32:30.303667Z",
     "iopub.status.busy": "2023-03-11T09:32:30.302885Z",
     "iopub.status.idle": "2023-03-11T09:32:30.308602Z",
     "shell.execute_reply": "2023-03-11T09:32:30.307584Z"
    },
    "papermill": {
     "duration": 0.022576,
     "end_time": "2023-03-11T09:32:30.312936",
     "exception": false,
     "start_time": "2023-03-11T09:32:30.290360",
     "status": "completed"
    },
    "tags": []
   },
   "outputs": [
    {
     "name": "stdout",
     "output_type": "stream",
     "text": [
      "hello\n"
     ]
    }
   ],
   "source": [
    "print(\"hello\")"
   ]
  },
  {
   "cell_type": "code",
   "execution_count": 3,
   "id": "187c8505",
   "metadata": {
    "execution": {
     "iopub.execute_input": "2023-03-11T09:32:30.334858Z",
     "iopub.status.busy": "2023-03-11T09:32:30.334571Z",
     "iopub.status.idle": "2023-03-11T09:32:31.928189Z",
     "shell.execute_reply": "2023-03-11T09:32:31.927184Z"
    },
    "papermill": {
     "duration": 1.606785,
     "end_time": "2023-03-11T09:32:31.930670",
     "exception": false,
     "start_time": "2023-03-11T09:32:30.323885",
     "status": "completed"
    },
    "tags": []
   },
   "outputs": [],
   "source": [
    "import torch\n",
    "device = torch.device(\"cuda:0\" if torch.cuda.is_available() else \"cpu\")"
   ]
  },
  {
   "cell_type": "markdown",
   "id": "1343e404",
   "metadata": {
    "papermill": {
     "duration": 0.009641,
     "end_time": "2023-03-11T09:32:31.950480",
     "exception": false,
     "start_time": "2023-03-11T09:32:31.940839",
     "status": "completed"
    },
    "tags": []
   },
   "source": [
    "# 1. Import important libraries"
   ]
  },
  {
   "cell_type": "code",
   "execution_count": 4,
   "id": "92516632",
   "metadata": {
    "execution": {
     "iopub.execute_input": "2023-03-11T09:32:31.972027Z",
     "iopub.status.busy": "2023-03-11T09:32:31.970901Z",
     "iopub.status.idle": "2023-03-11T09:32:37.895099Z",
     "shell.execute_reply": "2023-03-11T09:32:37.894029Z"
    },
    "papermill": {
     "duration": 5.937461,
     "end_time": "2023-03-11T09:32:37.897650",
     "exception": false,
     "start_time": "2023-03-11T09:32:31.960189",
     "status": "completed"
    },
    "tags": []
   },
   "outputs": [],
   "source": [
    "%%capture\n",
    "import os\n",
    "import sys\n",
    "import string\n",
    "import fasttext\n",
    "import numpy as np\n",
    "\n",
    "import warnings\n",
    "warnings.filterwarnings('ignore')\n",
    "\n",
    "from pickle import dump, load\n",
    "from underthesea import word_tokenize\n",
    "from gensim.utils import simple_preprocess\n",
    "from collections import defaultdict\n",
    "\n",
    "from keras.preprocessing.text import Tokenizer\n",
    "from keras.preprocessing.image import load_img, img_to_array\n",
    "from keras.preprocessing.sequence import pad_sequences\n",
    "\n",
    "# from keras.applications.xception import Xception, preprocess_input\n",
    "from keras.applications.inception_v3 import InceptionV3, preprocess_input\n",
    "from keras.layers import Input, Dense, LSTM, Embedding, Dropout, Bidirectional, add\n",
    "from keras.initializers import Constant\n",
    "from keras.models import Model, load_model\n",
    "from keras.utils.vis_utils import plot_model\n",
    "\n",
    "from tensorflow.keras.layers import Bidirectional\n",
    "from tensorflow.keras.optimizers import Adam\n",
    "from tensorflow.keras.losses import CategoricalCrossentropy\n",
    "from tensorflow.keras.utils import to_categorical\n",
    "\n",
    "from tqdm.notebook import tqdm\n",
    "from nltk.translate.bleu_score import corpus_bleu"
   ]
  },
  {
   "cell_type": "markdown",
   "id": "f474c1a6",
   "metadata": {
    "papermill": {
     "duration": 0.009721,
     "end_time": "2023-03-11T09:32:37.917575",
     "exception": false,
     "start_time": "2023-03-11T09:32:37.907854",
     "status": "completed"
    },
    "tags": []
   },
   "source": [
    "# 2. Getting and performing data cleaning"
   ]
  },
  {
   "cell_type": "code",
   "execution_count": 5,
   "id": "6c1b3287",
   "metadata": {
    "execution": {
     "iopub.execute_input": "2023-03-11T09:32:37.939063Z",
     "iopub.status.busy": "2023-03-11T09:32:37.938680Z",
     "iopub.status.idle": "2023-03-11T09:32:37.943974Z",
     "shell.execute_reply": "2023-03-11T09:32:37.942807Z"
    },
    "papermill": {
     "duration": 0.018785,
     "end_time": "2023-03-11T09:32:37.946277",
     "exception": false,
     "start_time": "2023-03-11T09:32:37.927492",
     "status": "completed"
    },
    "tags": []
   },
   "outputs": [],
   "source": [
    "def load_doc(filename):\n",
    "    file = open(filename, 'r', encoding='utf-8')\n",
    "    text = file.read()\n",
    "    file.close()\n",
    "    \n",
    "    return text"
   ]
  },
  {
   "cell_type": "code",
   "execution_count": 6,
   "id": "dd4b9193",
   "metadata": {
    "execution": {
     "iopub.execute_input": "2023-03-11T09:32:37.967679Z",
     "iopub.status.busy": "2023-03-11T09:32:37.967399Z",
     "iopub.status.idle": "2023-03-11T09:32:37.973164Z",
     "shell.execute_reply": "2023-03-11T09:32:37.972014Z"
    },
    "papermill": {
     "duration": 0.018758,
     "end_time": "2023-03-11T09:32:37.975304",
     "exception": false,
     "start_time": "2023-03-11T09:32:37.956546",
     "status": "completed"
    },
    "tags": []
   },
   "outputs": [],
   "source": [
    "def all_img_captions(filename):\n",
    "    file = load_doc(filename)\n",
    "    captions = file.split('\\n')\n",
    "    descriptions = defaultdict()\n",
    "    for caption in captions[:-1]:\n",
    "        img, cap = caption.split('\\t')\n",
    "        if img not in descriptions:\n",
    "            descriptions[img] = [cap]\n",
    "        else:\n",
    "            descriptions[img].append(cap)\n",
    "    return descriptions"
   ]
  },
  {
   "cell_type": "code",
   "execution_count": 7,
   "id": "bab89c09",
   "metadata": {
    "execution": {
     "iopub.execute_input": "2023-03-11T09:32:37.996716Z",
     "iopub.status.busy": "2023-03-11T09:32:37.995926Z",
     "iopub.status.idle": "2023-03-11T09:32:38.001894Z",
     "shell.execute_reply": "2023-03-11T09:32:38.001041Z"
    },
    "papermill": {
     "duration": 0.018881,
     "end_time": "2023-03-11T09:32:38.003809",
     "exception": false,
     "start_time": "2023-03-11T09:32:37.984928",
     "status": "completed"
    },
    "tags": []
   },
   "outputs": [],
   "source": [
    "def cleaning_text(descriptions):\n",
    "    table = str.maketrans('', '', string.punctuation)\n",
    "    for img, captions in descriptions.items():\n",
    "        for idx, cap in enumerate(captions):\n",
    "            desc = cap.replace(' - ', ' ').translate(table)\n",
    "            desc = ' '.join(simple_preprocess(desc))\n",
    "            desc = word_tokenize(desc, format='text')\n",
    "            \n",
    "            descriptions[img][idx] = desc\n",
    "    return descriptions"
   ]
  },
  {
   "cell_type": "code",
   "execution_count": 8,
   "id": "54d35807",
   "metadata": {
    "execution": {
     "iopub.execute_input": "2023-03-11T09:32:38.038413Z",
     "iopub.status.busy": "2023-03-11T09:32:38.038065Z",
     "iopub.status.idle": "2023-03-11T09:32:38.042856Z",
     "shell.execute_reply": "2023-03-11T09:32:38.041936Z"
    },
    "papermill": {
     "duration": 0.025913,
     "end_time": "2023-03-11T09:32:38.044975",
     "exception": false,
     "start_time": "2023-03-11T09:32:38.019062",
     "status": "completed"
    },
    "tags": []
   },
   "outputs": [],
   "source": [
    "def text_vocabulary(descriptions):\n",
    "    vocab = set()\n",
    "    for key in descriptions.keys():\n",
    "        [vocab.update(desc.split()) for desc in descriptions[key]]\n",
    "    \n",
    "    return vocab"
   ]
  },
  {
   "cell_type": "code",
   "execution_count": 9,
   "id": "2d77e6fd",
   "metadata": {
    "execution": {
     "iopub.execute_input": "2023-03-11T09:32:38.065652Z",
     "iopub.status.busy": "2023-03-11T09:32:38.065379Z",
     "iopub.status.idle": "2023-03-11T09:32:38.070618Z",
     "shell.execute_reply": "2023-03-11T09:32:38.069656Z"
    },
    "papermill": {
     "duration": 0.017818,
     "end_time": "2023-03-11T09:32:38.072511",
     "exception": false,
     "start_time": "2023-03-11T09:32:38.054693",
     "status": "completed"
    },
    "tags": []
   },
   "outputs": [],
   "source": [
    "def save_descriptions(descriptions, filename):\n",
    "    lines = list()\n",
    "    for key, captions in descriptions.items():\n",
    "        for cap in captions:\n",
    "            lines.append(key + '\\t' + cap)\n",
    "    data = '\\n'.join(lines)\n",
    "    file = open(filename, 'w', encoding='utf-8')\n",
    "    file.write(data)\n",
    "    file.close()"
   ]
  },
  {
   "cell_type": "code",
   "execution_count": 10,
   "id": "10108a6c",
   "metadata": {
    "execution": {
     "iopub.execute_input": "2023-03-11T09:32:38.093211Z",
     "iopub.status.busy": "2023-03-11T09:32:38.092942Z",
     "iopub.status.idle": "2023-03-11T09:32:38.097415Z",
     "shell.execute_reply": "2023-03-11T09:32:38.096486Z"
    },
    "papermill": {
     "duration": 0.016856,
     "end_time": "2023-03-11T09:32:38.099316",
     "exception": false,
     "start_time": "2023-03-11T09:32:38.082460",
     "status": "completed"
    },
    "tags": []
   },
   "outputs": [],
   "source": [
    "dataset_text = '../input/flickr8k-vi-caps'\n",
    "dataset_images = '../input/flickr8k/Images'\n",
    "sample_image = '2423292784_166ee54e0b.jpg'\n",
    "\n",
    "text_file = dataset_text + '/' + 'captions_vi.txt'"
   ]
  },
  {
   "cell_type": "code",
   "execution_count": null,
   "id": "58cfa87b",
   "metadata": {
    "papermill": {
     "duration": 0.009643,
     "end_time": "2023-03-11T09:32:38.118713",
     "exception": false,
     "start_time": "2023-03-11T09:32:38.109070",
     "status": "completed"
    },
    "tags": []
   },
   "outputs": [],
   "source": []
  },
  {
   "cell_type": "code",
   "execution_count": 11,
   "id": "6da60037",
   "metadata": {
    "execution": {
     "iopub.execute_input": "2023-03-11T09:32:38.140560Z",
     "iopub.status.busy": "2023-03-11T09:32:38.139105Z",
     "iopub.status.idle": "2023-03-11T09:32:38.266436Z",
     "shell.execute_reply": "2023-03-11T09:32:38.265409Z"
    },
    "papermill": {
     "duration": 0.140103,
     "end_time": "2023-03-11T09:32:38.268553",
     "exception": false,
     "start_time": "2023-03-11T09:32:38.128450",
     "status": "completed"
    },
    "tags": []
   },
   "outputs": [
    {
     "name": "stdout",
     "output_type": "stream",
     "text": [
      "Length of descriptions: 8000\n",
      "Description before clean text\n"
     ]
    },
    {
     "data": {
      "text/plain": [
       "['Một cậu bé với một cái chao kim loại trên đầu ',\n",
       " ' Một chú hề nhỏ với chiếc chao trên đầu',\n",
       " ' Một cậu bé điên có một cái bát trên đầu',\n",
       " ' Một cậu bé đội một chiếc chao kim loại trên đầu',\n",
       " ' Cậu bé mặc áo sơ mi sọc này đang đặt một cái rây trên đầu']"
      ]
     },
     "execution_count": 11,
     "metadata": {},
     "output_type": "execute_result"
    }
   ],
   "source": [
    "descriptions = all_img_captions(text_file)\n",
    "print('Length of descriptions:', len(descriptions))\n",
    "print('Description before clean text')\n",
    "descriptions[sample_image]"
   ]
  },
  {
   "cell_type": "code",
   "execution_count": 12,
   "id": "a0ee61b7",
   "metadata": {
    "execution": {
     "iopub.execute_input": "2023-03-11T09:32:38.290931Z",
     "iopub.status.busy": "2023-03-11T09:32:38.290199Z",
     "iopub.status.idle": "2023-03-11T09:33:05.951487Z",
     "shell.execute_reply": "2023-03-11T09:33:05.949807Z"
    },
    "papermill": {
     "duration": 27.675049,
     "end_time": "2023-03-11T09:33:05.954076",
     "exception": false,
     "start_time": "2023-03-11T09:32:38.279027",
     "status": "completed"
    },
    "tags": []
   },
   "outputs": [
    {
     "name": "stdout",
     "output_type": "stream",
     "text": [
      "Descriptions after clean text\n"
     ]
    },
    {
     "data": {
      "text/plain": [
       "['một cậu bé với một cái chao kim_loại trên đầu',\n",
       " 'một chú hề nhỏ với chiếc chao trên đầu',\n",
       " 'một cậu bé điên có một cái bát trên đầu',\n",
       " 'một cậu bé đội một chiếc chao kim_loại trên đầu',\n",
       " 'cậu bé mặc áo sơ_mi sọc này đang đặt một cái rây trên đầu']"
      ]
     },
     "execution_count": 12,
     "metadata": {},
     "output_type": "execute_result"
    }
   ],
   "source": [
    "clean_descriptions = cleaning_text(descriptions)\n",
    "print('Descriptions after clean text')\n",
    "clean_descriptions[sample_image]"
   ]
  },
  {
   "cell_type": "code",
   "execution_count": 13,
   "id": "fafb2a18",
   "metadata": {
    "execution": {
     "iopub.execute_input": "2023-03-11T09:33:05.976719Z",
     "iopub.status.busy": "2023-03-11T09:33:05.976040Z",
     "iopub.status.idle": "2023-03-11T09:33:06.053256Z",
     "shell.execute_reply": "2023-03-11T09:33:06.052103Z"
    },
    "papermill": {
     "duration": 0.090644,
     "end_time": "2023-03-11T09:33:06.055469",
     "exception": false,
     "start_time": "2023-03-11T09:33:05.964825",
     "status": "completed"
    },
    "tags": []
   },
   "outputs": [
    {
     "name": "stdout",
     "output_type": "stream",
     "text": [
      "Length of vocabuary: 5562\n"
     ]
    }
   ],
   "source": [
    "vocab = text_vocabulary(clean_descriptions)\n",
    "print('Length of vocabuary:', len(vocab))"
   ]
  },
  {
   "cell_type": "code",
   "execution_count": 14,
   "id": "2024ad1a",
   "metadata": {
    "execution": {
     "iopub.execute_input": "2023-03-11T09:33:06.077481Z",
     "iopub.status.busy": "2023-03-11T09:33:06.077136Z",
     "iopub.status.idle": "2023-03-11T09:33:06.118674Z",
     "shell.execute_reply": "2023-03-11T09:33:06.117663Z"
    },
    "papermill": {
     "duration": 0.055001,
     "end_time": "2023-03-11T09:33:06.120911",
     "exception": false,
     "start_time": "2023-03-11T09:33:06.065910",
     "status": "completed"
    },
    "tags": []
   },
   "outputs": [],
   "source": [
    "save_descriptions(clean_descriptions, 'descriptions.txt')"
   ]
  },
  {
   "cell_type": "markdown",
   "id": "b66785ba",
   "metadata": {
    "papermill": {
     "duration": 0.010254,
     "end_time": "2023-03-11T09:33:06.141653",
     "exception": false,
     "start_time": "2023-03-11T09:33:06.131399",
     "status": "completed"
    },
    "tags": []
   },
   "source": [
    "# 3. Extract feature vector from all images"
   ]
  },
  {
   "cell_type": "code",
   "execution_count": 15,
   "id": "1c89a2ca",
   "metadata": {
    "execution": {
     "iopub.execute_input": "2023-03-11T09:33:06.164166Z",
     "iopub.status.busy": "2023-03-11T09:33:06.163309Z",
     "iopub.status.idle": "2023-03-11T09:33:06.170343Z",
     "shell.execute_reply": "2023-03-11T09:33:06.169422Z"
    },
    "papermill": {
     "duration": 0.020324,
     "end_time": "2023-03-11T09:33:06.172377",
     "exception": false,
     "start_time": "2023-03-11T09:33:06.152053",
     "status": "completed"
    },
    "tags": []
   },
   "outputs": [],
   "source": [
    "def extract_feature(directory):\n",
    "    model = InceptionV3(weights='imagenet')\n",
    "    model = Model(model.input, model.layers[-2].output)\n",
    "    \n",
    "    features = dict()\n",
    "    for img in tqdm(os.listdir(directory), file=sys.stdout):\n",
    "        filename = directory + '/' + img\n",
    "        image = load_img(filename, target_size=(299, 299))\n",
    "        image = img_to_array(image)\n",
    "        image = np.expand_dims(image, axis=0)\n",
    "        image = preprocess_input(image)\n",
    "        \n",
    "        feature = model.predict(image, verbose=0)\n",
    "        features[img] = feature\n",
    "    return features"
   ]
  },
  {
   "cell_type": "code",
   "execution_count": 16,
   "id": "24b70d15",
   "metadata": {
    "execution": {
     "iopub.execute_input": "2023-03-11T09:33:06.194648Z",
     "iopub.status.busy": "2023-03-11T09:33:06.193849Z",
     "iopub.status.idle": "2023-03-11T09:42:00.825783Z",
     "shell.execute_reply": "2023-03-11T09:42:00.824779Z"
    },
    "papermill": {
     "duration": 534.645632,
     "end_time": "2023-03-11T09:42:00.828394",
     "exception": false,
     "start_time": "2023-03-11T09:33:06.182762",
     "status": "completed"
    },
    "tags": []
   },
   "outputs": [
    {
     "name": "stdout",
     "output_type": "stream",
     "text": [
      "Downloading data from https://storage.googleapis.com/tensorflow/keras-applications/inception_v3/inception_v3_weights_tf_dim_ordering_tf_kernels.h5\n",
      "96116736/96112376 [==============================] - 3s 0us/step\n",
      "96124928/96112376 [==============================] - 3s 0us/step\n"
     ]
    },
    {
     "data": {
      "application/vnd.jupyter.widget-view+json": {
       "model_id": "2bf604a3e0b64951957d78c460128cc9",
       "version_major": 2,
       "version_minor": 0
      },
      "text/plain": [
       "  0%|          | 0/8091 [00:00<?, ?it/s]"
      ]
     },
     "metadata": {},
     "output_type": "display_data"
    }
   ],
   "source": [
    "features = extract_feature(dataset_images)\n",
    "dump(features, open('features_inception_v3.pkl', 'wb'))"
   ]
  },
  {
   "cell_type": "code",
   "execution_count": 17,
   "id": "68ed42f5",
   "metadata": {
    "execution": {
     "iopub.execute_input": "2023-03-11T09:42:00.858476Z",
     "iopub.status.busy": "2023-03-11T09:42:00.856983Z",
     "iopub.status.idle": "2023-03-11T09:42:00.935838Z",
     "shell.execute_reply": "2023-03-11T09:42:00.934939Z"
    },
    "papermill": {
     "duration": 0.096464,
     "end_time": "2023-03-11T09:42:00.938691",
     "exception": false,
     "start_time": "2023-03-11T09:42:00.842227",
     "status": "completed"
    },
    "tags": []
   },
   "outputs": [],
   "source": [
    "feature_path = 'features_inception_v3.pkl'\n",
    "features = load(open(feature_path, 'rb'))"
   ]
  },
  {
   "cell_type": "code",
   "execution_count": 18,
   "id": "29f059a0",
   "metadata": {
    "execution": {
     "iopub.execute_input": "2023-03-11T09:42:00.967733Z",
     "iopub.status.busy": "2023-03-11T09:42:00.967417Z",
     "iopub.status.idle": "2023-03-11T09:42:00.974580Z",
     "shell.execute_reply": "2023-03-11T09:42:00.973647Z"
    },
    "papermill": {
     "duration": 0.02425,
     "end_time": "2023-03-11T09:42:00.976922",
     "exception": false,
     "start_time": "2023-03-11T09:42:00.952672",
     "status": "completed"
    },
    "tags": []
   },
   "outputs": [
    {
     "data": {
      "text/plain": [
       "array([[0.10134819, 0.17562562, 0.00392631, ..., 0.91039944, 0.31022805,\n",
       "        0.23347566]], dtype=float32)"
      ]
     },
     "execution_count": 18,
     "metadata": {},
     "output_type": "execute_result"
    }
   ],
   "source": [
    "features[sample_image]"
   ]
  },
  {
   "cell_type": "markdown",
   "id": "be62c1b8",
   "metadata": {
    "papermill": {
     "duration": 0.013438,
     "end_time": "2023-03-11T09:42:01.004084",
     "exception": false,
     "start_time": "2023-03-11T09:42:00.990646",
     "status": "completed"
    },
    "tags": []
   },
   "source": [
    "# 4. Loading dataset for training the model"
   ]
  },
  {
   "cell_type": "code",
   "execution_count": 19,
   "id": "691f430a",
   "metadata": {
    "execution": {
     "iopub.execute_input": "2023-03-11T09:42:01.032394Z",
     "iopub.status.busy": "2023-03-11T09:42:01.032099Z",
     "iopub.status.idle": "2023-03-11T09:42:01.036484Z",
     "shell.execute_reply": "2023-03-11T09:42:01.035520Z"
    },
    "papermill": {
     "duration": 0.020793,
     "end_time": "2023-03-11T09:42:01.038574",
     "exception": false,
     "start_time": "2023-03-11T09:42:01.017781",
     "status": "completed"
    },
    "tags": []
   },
   "outputs": [],
   "source": [
    "def load_photos(filename):\n",
    "    file = load_doc(filename)\n",
    "    photos = file.split('\\n')\n",
    "    return photos"
   ]
  },
  {
   "cell_type": "code",
   "execution_count": 20,
   "id": "9ac66522",
   "metadata": {
    "execution": {
     "iopub.execute_input": "2023-03-11T09:42:01.066639Z",
     "iopub.status.busy": "2023-03-11T09:42:01.066355Z",
     "iopub.status.idle": "2023-03-11T09:42:01.073601Z",
     "shell.execute_reply": "2023-03-11T09:42:01.072783Z"
    },
    "papermill": {
     "duration": 0.023579,
     "end_time": "2023-03-11T09:42:01.075496",
     "exception": false,
     "start_time": "2023-03-11T09:42:01.051917",
     "status": "completed"
    },
    "tags": []
   },
   "outputs": [],
   "source": [
    "def load_descriptions(filename, photos):\n",
    "    file = load_doc(filename)\n",
    "    descriptions = dict()\n",
    "    for line in file.split('\\n'):\n",
    "        line = line.split('\\t')\n",
    "        \n",
    "        if len(line) < 1:\n",
    "            continue\n",
    "            \n",
    "        image, cap = line[0], line[1]\n",
    "        if image in photos:\n",
    "            if image not in descriptions:\n",
    "                descriptions[image] = list()\n",
    "            desc = 'startseq ' + cap + ' endseq'\n",
    "            descriptions[image].append(desc)\n",
    "    return descriptions"
   ]
  },
  {
   "cell_type": "code",
   "execution_count": 21,
   "id": "957215fb",
   "metadata": {
    "execution": {
     "iopub.execute_input": "2023-03-11T09:42:01.104631Z",
     "iopub.status.busy": "2023-03-11T09:42:01.103219Z",
     "iopub.status.idle": "2023-03-11T09:42:01.109086Z",
     "shell.execute_reply": "2023-03-11T09:42:01.108254Z"
    },
    "papermill": {
     "duration": 0.021965,
     "end_time": "2023-03-11T09:42:01.111067",
     "exception": false,
     "start_time": "2023-03-11T09:42:01.089102",
     "status": "completed"
    },
    "tags": []
   },
   "outputs": [],
   "source": [
    "def load_features(photos):\n",
    "    all_features = load(open(feature_path, 'rb'))\n",
    "    features = {img: all_features[img] for img in photos}\n",
    "    return features"
   ]
  },
  {
   "cell_type": "code",
   "execution_count": 22,
   "id": "3fb34650",
   "metadata": {
    "execution": {
     "iopub.execute_input": "2023-03-11T09:42:01.139108Z",
     "iopub.status.busy": "2023-03-11T09:42:01.138851Z",
     "iopub.status.idle": "2023-03-11T09:42:04.957376Z",
     "shell.execute_reply": "2023-03-11T09:42:04.956312Z"
    },
    "papermill": {
     "duration": 3.83567,
     "end_time": "2023-03-11T09:42:04.960129",
     "exception": false,
     "start_time": "2023-03-11T09:42:01.124459",
     "status": "completed"
    },
    "tags": []
   },
   "outputs": [],
   "source": [
    "train_imgs = load_photos(dataset_text + '/' + 'trainImages.txt')\n",
    "train_descriptions = load_descriptions('descriptions.txt', train_imgs)\n",
    "train_features = load_features(train_imgs)\n",
    "\n",
    "test_imgs = load_photos(dataset_text + '/' + 'testImages.txt')\n",
    "test_descriptions = load_descriptions('descriptions.txt', test_imgs)\n",
    "test_features = load_features(test_imgs)"
   ]
  },
  {
   "cell_type": "markdown",
   "id": "3bd7457a",
   "metadata": {
    "execution": {
     "iopub.execute_input": "2022-04-22T06:46:01.831106Z",
     "iopub.status.busy": "2022-04-22T06:46:01.830847Z",
     "iopub.status.idle": "2022-04-22T06:46:01.836967Z",
     "shell.execute_reply": "2022-04-22T06:46:01.836194Z",
     "shell.execute_reply.started": "2022-04-22T06:46:01.831076Z"
    },
    "papermill": {
     "duration": 0.01359,
     "end_time": "2023-03-11T09:42:04.987805",
     "exception": false,
     "start_time": "2023-03-11T09:42:04.974215",
     "status": "completed"
    },
    "tags": []
   },
   "source": [
    "# 5. Tokenizing the vocabulary and word embedding"
   ]
  },
  {
   "cell_type": "code",
   "execution_count": 23,
   "id": "544614bd",
   "metadata": {
    "execution": {
     "iopub.execute_input": "2023-03-11T09:42:05.016269Z",
     "iopub.status.busy": "2023-03-11T09:42:05.015956Z",
     "iopub.status.idle": "2023-03-11T09:42:05.021068Z",
     "shell.execute_reply": "2023-03-11T09:42:05.020112Z"
    },
    "papermill": {
     "duration": 0.021821,
     "end_time": "2023-03-11T09:42:05.023164",
     "exception": false,
     "start_time": "2023-03-11T09:42:05.001343",
     "status": "completed"
    },
    "tags": []
   },
   "outputs": [],
   "source": [
    "def dict_to_list(descriptions):\n",
    "    all_desc = list()\n",
    "    for key in descriptions.keys():\n",
    "        [all_desc.append(desc) for desc in descriptions[key]]\n",
    "    return all_desc"
   ]
  },
  {
   "cell_type": "code",
   "execution_count": 24,
   "id": "bc0982e4",
   "metadata": {
    "execution": {
     "iopub.execute_input": "2023-03-11T09:42:05.050946Z",
     "iopub.status.busy": "2023-03-11T09:42:05.050662Z",
     "iopub.status.idle": "2023-03-11T09:42:05.055177Z",
     "shell.execute_reply": "2023-03-11T09:42:05.054188Z"
    },
    "papermill": {
     "duration": 0.020946,
     "end_time": "2023-03-11T09:42:05.057381",
     "exception": false,
     "start_time": "2023-03-11T09:42:05.036435",
     "status": "completed"
    },
    "tags": []
   },
   "outputs": [],
   "source": [
    "def create_tokenizer(descriptions):\n",
    "    desc_list = dict_to_list(descriptions)\n",
    "    oov_token = 'unk'\n",
    "    tokenizer = Tokenizer(oov_token=oov_token)\n",
    "    tokenizer.fit_on_texts(desc_list)\n",
    "    return tokenizer"
   ]
  },
  {
   "cell_type": "code",
   "execution_count": 25,
   "id": "d9cd2f97",
   "metadata": {
    "execution": {
     "iopub.execute_input": "2023-03-11T09:42:05.085094Z",
     "iopub.status.busy": "2023-03-11T09:42:05.084823Z",
     "iopub.status.idle": "2023-03-11T09:42:05.766419Z",
     "shell.execute_reply": "2023-03-11T09:42:05.765233Z"
    },
    "papermill": {
     "duration": 0.697952,
     "end_time": "2023-03-11T09:42:05.768660",
     "exception": false,
     "start_time": "2023-03-11T09:42:05.070708",
     "status": "completed"
    },
    "tags": []
   },
   "outputs": [
    {
     "name": "stdout",
     "output_type": "stream",
     "text": [
      "# vocabulary: 3299\n"
     ]
    }
   ],
   "source": [
    "tokenizer = create_tokenizer(train_descriptions)\n",
    "dump(tokenizer, open('tokenizer.pkl', 'wb'))\n",
    "vocab_size = len(tokenizer.word_index) + 1\n",
    "print('# vocabulary:', vocab_size)"
   ]
  },
  {
   "cell_type": "code",
   "execution_count": 26,
   "id": "58f9c6b5",
   "metadata": {
    "execution": {
     "iopub.execute_input": "2023-03-11T09:42:05.798542Z",
     "iopub.status.busy": "2023-03-11T09:42:05.796980Z",
     "iopub.status.idle": "2023-03-11T09:42:05.853987Z",
     "shell.execute_reply": "2023-03-11T09:42:05.852806Z"
    },
    "papermill": {
     "duration": 0.074545,
     "end_time": "2023-03-11T09:42:05.856930",
     "exception": false,
     "start_time": "2023-03-11T09:42:05.782385",
     "status": "completed"
    },
    "tags": []
   },
   "outputs": [
    {
     "name": "stdout",
     "output_type": "stream",
     "text": [
      "Max length of train set: 41\n"
     ]
    }
   ],
   "source": [
    "def max_length(descriptions):\n",
    "    desc_list = dict_to_list(descriptions)\n",
    "    return max(len(desc.split()) for desc in desc_list)\n",
    "max_length = max_length(descriptions)\n",
    "print('Max length of train set:', max_length)"
   ]
  },
  {
   "cell_type": "code",
   "execution_count": 27,
   "id": "b9b5bb6f",
   "metadata": {
    "execution": {
     "iopub.execute_input": "2023-03-11T09:42:05.885886Z",
     "iopub.status.busy": "2023-03-11T09:42:05.885605Z",
     "iopub.status.idle": "2023-03-11T09:42:05.892060Z",
     "shell.execute_reply": "2023-03-11T09:42:05.891087Z"
    },
    "papermill": {
     "duration": 0.022856,
     "end_time": "2023-03-11T09:42:05.893989",
     "exception": false,
     "start_time": "2023-03-11T09:42:05.871133",
     "status": "completed"
    },
    "tags": []
   },
   "outputs": [],
   "source": [
    "def create_embedding_matrix(vocab):\n",
    "    embedding_index = fasttext.load_model('../input/fasttext-vietnamese-word-vectors-full/cc.vi.300.bin')\n",
    "    \n",
    "    embedding_dim = 300\n",
    "    hits = 0\n",
    "    misses = 0\n",
    "    vocab_size = len(vocab) + 1\n",
    "    \n",
    "    embedding_matrix = np.zeros((vocab_size, embedding_dim))\n",
    "    for word, idx in vocab.items():\n",
    "        embedding_vector = embedding_index[word]\n",
    "        if embedding_vector is not None:\n",
    "            embedding_matrix[idx] = embedding_vector\n",
    "            hits += 1\n",
    "        else:\n",
    "            misses += 1\n",
    "    print(\"Converted %d words (%d misses)\" % (hits, misses))\n",
    "    \n",
    "    return embedding_matrix"
   ]
  },
  {
   "cell_type": "code",
   "execution_count": 28,
   "id": "82592515",
   "metadata": {
    "execution": {
     "iopub.execute_input": "2023-03-11T09:42:05.922614Z",
     "iopub.status.busy": "2023-03-11T09:42:05.921847Z",
     "iopub.status.idle": "2023-03-11T09:43:14.842020Z",
     "shell.execute_reply": "2023-03-11T09:43:14.840874Z"
    },
    "papermill": {
     "duration": 68.939269,
     "end_time": "2023-03-11T09:43:14.846912",
     "exception": false,
     "start_time": "2023-03-11T09:42:05.907643",
     "status": "completed"
    },
    "tags": []
   },
   "outputs": [
    {
     "name": "stdout",
     "output_type": "stream",
     "text": [
      "Converted 3298 words (0 misses)\n",
      "(3299, 300)\n"
     ]
    }
   ],
   "source": [
    "%%capture --no-stdout\n",
    "vocab = tokenizer.word_index\n",
    "embedding_matrix = create_embedding_matrix(vocab)\n",
    "print(embedding_matrix.shape)"
   ]
  },
  {
   "cell_type": "markdown",
   "id": "7ab149c0",
   "metadata": {
    "papermill": {
     "duration": 0.013539,
     "end_time": "2023-03-11T09:43:14.874360",
     "exception": false,
     "start_time": "2023-03-11T09:43:14.860821",
     "status": "completed"
    },
    "tags": []
   },
   "source": [
    "# 6. Create data generator"
   ]
  },
  {
   "cell_type": "code",
   "execution_count": 29,
   "id": "1910c35e",
   "metadata": {
    "execution": {
     "iopub.execute_input": "2023-03-11T09:43:14.902982Z",
     "iopub.status.busy": "2023-03-11T09:43:14.902650Z",
     "iopub.status.idle": "2023-03-11T09:43:14.911050Z",
     "shell.execute_reply": "2023-03-11T09:43:14.910102Z"
    },
    "papermill": {
     "duration": 0.025202,
     "end_time": "2023-03-11T09:43:14.913163",
     "exception": false,
     "start_time": "2023-03-11T09:43:14.887961",
     "status": "completed"
    },
    "tags": []
   },
   "outputs": [],
   "source": [
    "def data_generator(descriptions, features, tokenizer, max_length, vocab_size, batch_size):\n",
    "    X1, X2, y = list(), list(), list()\n",
    "    n = 0\n",
    "    \n",
    "    while True:\n",
    "        for key, captions in descriptions.items():\n",
    "            n += 1\n",
    "            feature = features[key][0]\n",
    "            for caption in captions:\n",
    "                seq = tokenizer.texts_to_sequences([caption])[0]\n",
    "                for i in range(1, len(seq)):\n",
    "                    in_seq, out_seq = seq[:i], seq[i]\n",
    "                    in_seq = pad_sequences([in_seq], maxlen=max_length)[0]\n",
    "                    out_seq = to_categorical([out_seq], num_classes=vocab_size)[0]\n",
    "\n",
    "                    X1.append(feature)\n",
    "                    X2.append(in_seq)\n",
    "                    y.append(out_seq)\n",
    "            if n == batch_size:\n",
    "                X1, X2, y = np.array(X1), np.array(X2), np.array(y)\n",
    "                yield [X1, X2], y\n",
    "                X1, X2, y = list(), list(), list()\n",
    "                n = 0"
   ]
  },
  {
   "cell_type": "code",
   "execution_count": 30,
   "id": "ecd61674",
   "metadata": {
    "execution": {
     "iopub.execute_input": "2023-03-11T09:43:14.941234Z",
     "iopub.status.busy": "2023-03-11T09:43:14.940963Z",
     "iopub.status.idle": "2023-03-11T09:43:15.025920Z",
     "shell.execute_reply": "2023-03-11T09:43:15.024815Z"
    },
    "papermill": {
     "duration": 0.101843,
     "end_time": "2023-03-11T09:43:15.028520",
     "exception": false,
     "start_time": "2023-03-11T09:43:14.926677",
     "status": "completed"
    },
    "tags": []
   },
   "outputs": [
    {
     "data": {
      "text/plain": [
       "((2356, 2048), (2356, 41), (2356, 3299))"
      ]
     },
     "execution_count": 30,
     "metadata": {},
     "output_type": "execute_result"
    }
   ],
   "source": [
    "[a, b], c = next(data_generator(train_descriptions, features, tokenizer, max_length, vocab_size, 32))\n",
    "a.shape, b.shape, c.shape"
   ]
  },
  {
   "cell_type": "markdown",
   "id": "31862952",
   "metadata": {
    "papermill": {
     "duration": 0.013917,
     "end_time": "2023-03-11T09:43:15.056572",
     "exception": false,
     "start_time": "2023-03-11T09:43:15.042655",
     "status": "completed"
    },
    "tags": []
   },
   "source": [
    "# 7. Defining the CNN-RNN model"
   ]
  },
  {
   "cell_type": "code",
   "execution_count": 31,
   "id": "131da082",
   "metadata": {
    "execution": {
     "iopub.execute_input": "2023-03-11T09:43:15.085934Z",
     "iopub.status.busy": "2023-03-11T09:43:15.084988Z",
     "iopub.status.idle": "2023-03-11T09:43:15.093151Z",
     "shell.execute_reply": "2023-03-11T09:43:15.092307Z"
    },
    "papermill": {
     "duration": 0.025097,
     "end_time": "2023-03-11T09:43:15.095358",
     "exception": false,
     "start_time": "2023-03-11T09:43:15.070261",
     "status": "completed"
    },
    "tags": []
   },
   "outputs": [],
   "source": [
    "def define_model(vocab_size, max_length):\n",
    "    embedding_dim = 300\n",
    "    inputs1 = Input(shape=(2048,))\n",
    "    fe1 = Dropout(0.5)(inputs1)\n",
    "    fe2 = Dense(256, activation='relu')(fe1)\n",
    "\n",
    "    inputs2 = Input(shape=(max_length,))\n",
    "    se1 = Embedding(\n",
    "        vocab_size,\n",
    "        embedding_dim,\n",
    "        embeddings_initializer=Constant(embedding_matrix),\n",
    "        mask_zero=True,\n",
    "        trainable=False,\n",
    "    )(inputs2)\n",
    "    se2 = Dropout(0.5)(se1)\n",
    "    se3 = Bidirectional(LSTM(128))(se2)\n",
    "\n",
    "    decoder1 = add([fe2, se3])\n",
    "    decoder2 = Dense(256, activation='relu')(decoder1)\n",
    "    outputs = Dense(vocab_size, activation='softmax')(decoder2)\n",
    "\n",
    "    model = Model(inputs=[inputs1, inputs2], outputs=outputs)\n",
    "    \n",
    "    model.compile(loss='categorical_crossentropy', optimizer=Adam(learning_rate=0.0001))\n",
    "\n",
    "    print(model.summary())\n",
    "#     plot_model(model, to_file='model.png', show_shapes=True)\n",
    "\n",
    "    return model"
   ]
  },
  {
   "cell_type": "markdown",
   "id": "36a40cfa",
   "metadata": {
    "papermill": {
     "duration": 0.013528,
     "end_time": "2023-03-11T09:43:15.122493",
     "exception": false,
     "start_time": "2023-03-11T09:43:15.108965",
     "status": "completed"
    },
    "tags": []
   },
   "source": [
    "# 8. Training the model"
   ]
  },
  {
   "cell_type": "code",
   "execution_count": 32,
   "id": "7681e169",
   "metadata": {
    "execution": {
     "iopub.execute_input": "2023-03-11T09:43:15.151165Z",
     "iopub.status.busy": "2023-03-11T09:43:15.150888Z",
     "iopub.status.idle": "2023-03-11T09:43:16.589879Z",
     "shell.execute_reply": "2023-03-11T09:43:16.588570Z"
    },
    "papermill": {
     "duration": 1.456514,
     "end_time": "2023-03-11T09:43:16.592877",
     "exception": false,
     "start_time": "2023-03-11T09:43:15.136363",
     "status": "completed"
    },
    "tags": []
   },
   "outputs": [
    {
     "name": "stdout",
     "output_type": "stream",
     "text": [
      "Dataset:  6000\n",
      "Descriptions: train= 6000\n",
      "Photos: train= 6000\n",
      "Vocabulary Size: 3299\n",
      "Description Length:  41\n",
      "Model: \"model_1\"\n",
      "__________________________________________________________________________________________________\n",
      "Layer (type)                    Output Shape         Param #     Connected to                     \n",
      "==================================================================================================\n",
      "input_3 (InputLayer)            [(None, 41)]         0                                            \n",
      "__________________________________________________________________________________________________\n",
      "input_2 (InputLayer)            [(None, 2048)]       0                                            \n",
      "__________________________________________________________________________________________________\n",
      "embedding (Embedding)           (None, 41, 300)      989700      input_3[0][0]                    \n",
      "__________________________________________________________________________________________________\n",
      "dropout (Dropout)               (None, 2048)         0           input_2[0][0]                    \n",
      "__________________________________________________________________________________________________\n",
      "dropout_1 (Dropout)             (None, 41, 300)      0           embedding[0][0]                  \n",
      "__________________________________________________________________________________________________\n",
      "dense (Dense)                   (None, 256)          524544      dropout[0][0]                    \n",
      "__________________________________________________________________________________________________\n",
      "bidirectional (Bidirectional)   (None, 256)          439296      dropout_1[0][0]                  \n",
      "__________________________________________________________________________________________________\n",
      "add (Add)                       (None, 256)          0           dense[0][0]                      \n",
      "                                                                 bidirectional[0][0]              \n",
      "__________________________________________________________________________________________________\n",
      "dense_1 (Dense)                 (None, 256)          65792       add[0][0]                        \n",
      "__________________________________________________________________________________________________\n",
      "dense_2 (Dense)                 (None, 3299)         847843      dense_1[0][0]                    \n",
      "==================================================================================================\n",
      "Total params: 2,867,175\n",
      "Trainable params: 1,877,475\n",
      "Non-trainable params: 989,700\n",
      "__________________________________________________________________________________________________\n",
      "None\n"
     ]
    }
   ],
   "source": [
    "print('Dataset: ', len(train_imgs))\n",
    "print('Descriptions: train=', len(train_descriptions))\n",
    "print('Photos: train=', len(train_features))\n",
    "print('Vocabulary Size:', vocab_size)\n",
    "print('Description Length: ', max_length)\n",
    "\n",
    "model = define_model(vocab_size, max_length)\n",
    "epochs = 50\n",
    "batch_size = 32\n",
    "steps = len(train_imgs) // batch_size"
   ]
  },
  {
   "cell_type": "code",
   "execution_count": 33,
   "id": "51e7804b",
   "metadata": {
    "execution": {
     "iopub.execute_input": "2023-03-11T09:43:16.624073Z",
     "iopub.status.busy": "2023-03-11T09:43:16.623019Z",
     "iopub.status.idle": "2023-03-11T09:43:17.788429Z",
     "shell.execute_reply": "2023-03-11T09:43:17.787248Z"
    },
    "papermill": {
     "duration": 1.182545,
     "end_time": "2023-03-11T09:43:17.790658",
     "exception": false,
     "start_time": "2023-03-11T09:43:16.608113",
     "status": "completed"
    },
    "tags": []
   },
   "outputs": [
    {
     "data": {
      "image/png": "[encoded data removed]",
      "text/plain": [
       "<IPython.core.display.Image object>"
      ]
     },
     "execution_count": 33,
     "metadata": {},
     "output_type": "execute_result"
    }
   ],
   "source": [
    "# Plot the model\n",
    "plot_model(model, to_file=\"model.png\", show_shapes=True)"
   ]
  },
  {
   "cell_type": "code",
   "execution_count": 34,
   "id": "d21065be",
   "metadata": {
    "execution": {
     "iopub.execute_input": "2023-03-11T09:43:17.822738Z",
     "iopub.status.busy": "2023-03-11T09:43:17.822167Z",
     "iopub.status.idle": "2023-03-11T10:40:01.585241Z",
     "shell.execute_reply": "2023-03-11T10:40:01.584296Z"
    },
    "papermill": {
     "duration": 3403.781423,
     "end_time": "2023-03-11T10:40:01.587621",
     "exception": false,
     "start_time": "2023-03-11T09:43:17.806198",
     "status": "completed"
    },
    "tags": []
   },
   "outputs": [
    {
     "name": "stdout",
     "output_type": "stream",
     "text": [
      "187/187 [==============================] - 61s 294ms/step - loss: 5.8288\n",
      "187/187 [==============================] - 56s 297ms/step - loss: 5.1110\n",
      "187/187 [==============================] - 54s 289ms/step - loss: 4.8580\n",
      "187/187 [==============================] - 53s 285ms/step - loss: 4.6239\n",
      "187/187 [==============================] - 54s 288ms/step - loss: 4.4153\n",
      "187/187 [==============================] - 54s 289ms/step - loss: 4.2528\n",
      "187/187 [==============================] - 54s 286ms/step - loss: 4.1232\n",
      "187/187 [==============================] - 53s 285ms/step - loss: 4.0174\n",
      "187/187 [==============================] - 54s 287ms/step - loss: 3.9256\n",
      "187/187 [==============================] - 54s 291ms/step - loss: 3.8449\n",
      "187/187 [==============================] - 54s 287ms/step - loss: 3.7749\n",
      "187/187 [==============================] - 53s 284ms/step - loss: 3.7128\n",
      "187/187 [==============================] - 54s 290ms/step - loss: 3.6555\n",
      "187/187 [==============================] - 54s 289ms/step - loss: 3.6034\n",
      "187/187 [==============================] - 53s 282ms/step - loss: 3.5522\n",
      "187/187 [==============================] - 54s 288ms/step - loss: 3.5067\n",
      "187/187 [==============================] - 54s 288ms/step - loss: 3.4631\n",
      "187/187 [==============================] - 53s 286ms/step - loss: 3.4228\n",
      "187/187 [==============================] - 54s 287ms/step - loss: 3.3849\n",
      "187/187 [==============================] - 54s 286ms/step - loss: 3.3497\n",
      "187/187 [==============================] - 53s 281ms/step - loss: 3.3168\n",
      "187/187 [==============================] - 54s 287ms/step - loss: 3.2834\n",
      "187/187 [==============================] - 54s 287ms/step - loss: 3.2550\n",
      "187/187 [==============================] - 54s 286ms/step - loss: 3.2256\n",
      "187/187 [==============================] - 55s 292ms/step - loss: 3.1979\n",
      "187/187 [==============================] - 54s 291ms/step - loss: 3.1721\n",
      "187/187 [==============================] - 54s 287ms/step - loss: 3.1460\n",
      "187/187 [==============================] - 54s 286ms/step - loss: 3.1212\n",
      "187/187 [==============================] - 54s 288ms/step - loss: 3.0976\n",
      "187/187 [==============================] - 54s 290ms/step - loss: 3.0748\n",
      "187/187 [==============================] - 55s 292ms/step - loss: 3.0546\n",
      "187/187 [==============================] - 54s 288ms/step - loss: 3.0313\n",
      "187/187 [==============================] - 54s 286ms/step - loss: 3.0107\n",
      "187/187 [==============================] - 54s 289ms/step - loss: 2.9899\n",
      "187/187 [==============================] - 53s 284ms/step - loss: 2.9736\n",
      "187/187 [==============================] - 53s 283ms/step - loss: 2.9531\n",
      "187/187 [==============================] - 53s 285ms/step - loss: 2.9373\n",
      "187/187 [==============================] - 53s 282ms/step - loss: 2.9181\n",
      "187/187 [==============================] - 54s 288ms/step - loss: 2.9019\n",
      "187/187 [==============================] - 54s 286ms/step - loss: 2.8864\n",
      "187/187 [==============================] - 53s 284ms/step - loss: 2.8715\n",
      "187/187 [==============================] - 55s 291ms/step - loss: 2.8563\n",
      "187/187 [==============================] - 53s 285ms/step - loss: 2.8418\n",
      "187/187 [==============================] - 53s 285ms/step - loss: 2.8266\n",
      "187/187 [==============================] - 53s 285ms/step - loss: 2.8126\n",
      "187/187 [==============================] - 53s 283ms/step - loss: 2.7982\n",
      "187/187 [==============================] - 54s 286ms/step - loss: 2.7868\n",
      "187/187 [==============================] - 54s 287ms/step - loss: 2.7735\n",
      "187/187 [==============================] - 54s 291ms/step - loss: 2.7604\n",
      "187/187 [==============================] - 53s 285ms/step - loss: 2.7496\n"
     ]
    }
   ],
   "source": [
    "for i in range(epochs):\n",
    "    generator = data_generator(train_descriptions, train_features, tokenizer, max_length, vocab_size, batch_size)\n",
    "    model.fit(generator, epochs=1, steps_per_epoch=steps, verbose=1)\n",
    "\n"
   ]
  },
  {
   "cell_type": "code",
   "execution_count": 35,
   "id": "3585335b",
   "metadata": {
    "execution": {
     "iopub.execute_input": "2023-03-11T10:40:02.592295Z",
     "iopub.status.busy": "2023-03-11T10:40:02.591925Z",
     "iopub.status.idle": "2023-03-11T10:40:03.581983Z",
     "shell.execute_reply": "2023-03-11T10:40:03.580983Z"
    },
    "papermill": {
     "duration": 1.499648,
     "end_time": "2023-03-11T10:40:03.584621",
     "exception": false,
     "start_time": "2023-03-11T10:40:02.084973",
     "status": "completed"
    },
    "tags": []
   },
   "outputs": [],
   "source": [
    "model.save(\"best_model.h5\")"
   ]
  },
  {
   "cell_type": "code",
   "execution_count": 36,
   "id": "7a7474c4",
   "metadata": {
    "execution": {
     "iopub.execute_input": "2023-03-11T10:40:04.646542Z",
     "iopub.status.busy": "2023-03-11T10:40:04.646112Z",
     "iopub.status.idle": "2023-03-11T10:40:04.671409Z",
     "shell.execute_reply": "2023-03-11T10:40:04.670503Z"
    },
    "papermill": {
     "duration": 0.544821,
     "end_time": "2023-03-11T10:40:04.673397",
     "exception": false,
     "start_time": "2023-03-11T10:40:04.128576",
     "status": "completed"
    },
    "tags": []
   },
   "outputs": [],
   "source": [
    "# Load model\n",
    "model.load_weights(\"best_model.h5\")"
   ]
  },
  {
   "cell_type": "markdown",
   "id": "67ef85fe",
   "metadata": {
    "papermill": {
     "duration": 0.499919,
     "end_time": "2023-03-11T10:40:05.716756",
     "exception": false,
     "start_time": "2023-03-11T10:40:05.216837",
     "status": "completed"
    },
    "tags": []
   },
   "source": [
    "# 9. Generate captions for the image"
   ]
  },
  {
   "cell_type": "code",
   "execution_count": 37,
   "id": "6346aa79",
   "metadata": {
    "execution": {
     "iopub.execute_input": "2023-03-11T10:40:06.773236Z",
     "iopub.status.busy": "2023-03-11T10:40:06.772860Z",
     "iopub.status.idle": "2023-03-11T10:40:06.778198Z",
     "shell.execute_reply": "2023-03-11T10:40:06.777163Z"
    },
    "papermill": {
     "duration": 0.557608,
     "end_time": "2023-03-11T10:40:06.780166",
     "exception": false,
     "start_time": "2023-03-11T10:40:06.222558",
     "status": "completed"
    },
    "tags": []
   },
   "outputs": [],
   "source": [
    "def idx_to_word(integer, tokenizer):\n",
    "    for word, index in tokenizer.word_index.items():\n",
    "        if index == integer:\n",
    "            return word\n",
    "    return None"
   ]
  },
  {
   "cell_type": "code",
   "execution_count": 38,
   "id": "f5f589bc",
   "metadata": {
    "execution": {
     "iopub.execute_input": "2023-03-11T10:40:07.762530Z",
     "iopub.status.busy": "2023-03-11T10:40:07.762156Z",
     "iopub.status.idle": "2023-03-11T10:40:07.768575Z",
     "shell.execute_reply": "2023-03-11T10:40:07.767452Z"
    },
    "papermill": {
     "duration": 0.502125,
     "end_time": "2023-03-11T10:40:07.770816",
     "exception": false,
     "start_time": "2023-03-11T10:40:07.268691",
     "status": "completed"
    },
    "tags": []
   },
   "outputs": [],
   "source": [
    "def predict_caption(model, image, tokenizer, max_length):\n",
    "    in_text = 'startseq'\n",
    "    for i in range(max_length):\n",
    "        seq = tokenizer.texts_to_sequences([in_text])[0]\n",
    "        seq = pad_sequences([seq], maxlen=max_length)\n",
    "        yhat = model.predict([image, seq], verbose=0)\n",
    "        pred_ids = np.argmax(yhat)\n",
    "        word = idx_to_word(pred_ids, tokenizer)\n",
    "        if word is None:\n",
    "            break\n",
    "        in_text += ' ' + word\n",
    "        if word == 'endseq':\n",
    "            break\n",
    "    return in_text"
   ]
  },
  {
   "cell_type": "code",
   "execution_count": 39,
   "id": "ed5a7712",
   "metadata": {
    "execution": {
     "iopub.execute_input": "2023-03-11T10:40:08.807829Z",
     "iopub.status.busy": "2023-03-11T10:40:08.807458Z",
     "iopub.status.idle": "2023-03-11T11:11:42.724479Z",
     "shell.execute_reply": "2023-03-11T11:11:42.723311Z"
    },
    "papermill": {
     "duration": 1894.466042,
     "end_time": "2023-03-11T11:11:42.726628",
     "exception": false,
     "start_time": "2023-03-11T10:40:08.260586",
     "status": "completed"
    },
    "tags": []
   },
   "outputs": [
    {
     "data": {
      "application/vnd.jupyter.widget-view+json": {
       "model_id": "acc783927ec9448b8a74dbe0310d5b85",
       "version_major": 2,
       "version_minor": 0
      },
      "text/plain": [
       "  0%|          | 0/2000 [00:00<?, ?it/s]"
      ]
     },
     "metadata": {},
     "output_type": "display_data"
    },
    {
     "name": "stdout",
     "output_type": "stream",
     "text": [
      "BLEU-1: 0.486039\n",
      "BLEU-1: 0.343102\n"
     ]
    }
   ],
   "source": [
    "model = load_model('./best_model.h5')\n",
    "actual, predicted = list(), list()\n",
    "\n",
    "for image in tqdm(test_imgs):\n",
    "    captions = test_descriptions[image]\n",
    "    actual_captions = [caption.split() for caption in captions]\n",
    "\n",
    "    y_pred = predict_caption(model, test_features[image], tokenizer, max_length)\n",
    "    y_pred = y_pred.split()\n",
    "\n",
    "    actual.append(actual_captions)\n",
    "    predicted.append(y_pred)\n",
    "\n",
    "# BLEU score\n",
    "print('BLEU-1: %f' % corpus_bleu(actual, predicted, weights=(1.0, 0, 0, 0)))\n",
    "print('BLEU-1: %f' % corpus_bleu(actual, predicted, weights=(0.5, 0.5, 0, 0)))"
   ]
  },
  {
   "cell_type": "code",
   "execution_count": 40,
   "id": "c0ddc954",
   "metadata": {
    "execution": {
     "iopub.execute_input": "2023-03-11T11:11:43.898330Z",
     "iopub.status.busy": "2023-03-11T11:11:43.897961Z",
     "iopub.status.idle": "2023-03-11T11:11:45.337810Z",
     "shell.execute_reply": "2023-03-11T11:11:45.336780Z"
    },
    "papermill": {
     "duration": 1.93268,
     "end_time": "2023-03-11T11:11:45.340174",
     "exception": false,
     "start_time": "2023-03-11T11:11:43.407494",
     "status": "completed"
    },
    "tags": []
   },
   "outputs": [
    {
     "name": "stdout",
     "output_type": "stream",
     "text": [
      "BLEU-3: 0.283986\n",
      "BLEU-4: 0.177759\n"
     ]
    }
   ],
   "source": [
    "print('BLEU-3: %f' % corpus_bleu(actual, predicted, weights=(0.3, 0.3, 0.3, 0)))\n",
    "print('BLEU-4: %f' % corpus_bleu(actual, predicted, weights=(0.25, 0.25, 0.25, 0.25)))"
   ]
  },
  {
   "cell_type": "markdown",
   "id": "b9e7c64e",
   "metadata": {
    "papermill": {
     "duration": 0.487649,
     "end_time": "2023-03-11T11:11:46.392018",
     "exception": false,
     "start_time": "2023-03-11T11:11:45.904369",
     "status": "completed"
    },
    "tags": []
   },
   "source": [
    "# 10. Visualize the results"
   ]
  },
  {
   "cell_type": "code",
   "execution_count": 41,
   "id": "7d49bd8b",
   "metadata": {
    "execution": {
     "iopub.execute_input": "2023-03-11T11:11:47.430839Z",
     "iopub.status.busy": "2023-03-11T11:11:47.430234Z",
     "iopub.status.idle": "2023-03-11T11:11:47.438941Z",
     "shell.execute_reply": "2023-03-11T11:11:47.438319Z"
    },
    "papermill": {
     "duration": 0.560979,
     "end_time": "2023-03-11T11:11:47.440744",
     "exception": false,
     "start_time": "2023-03-11T11:11:46.879765",
     "status": "completed"
    },
    "tags": []
   },
   "outputs": [],
   "source": [
    "from PIL import Image\n",
    "import matplotlib.pyplot as plt\n",
    "\n",
    "def generate_caption(image_name):\n",
    "    image_path = os.path.join(dataset_images, image_name)\n",
    "    image = Image.open(image_path)\n",
    "    descriptions = load_descriptions('descriptions.txt', train_imgs + test_imgs)\n",
    "    captions = descriptions[image_name]\n",
    "    print('-' * 20 + 'Actual' + '-' * 20)\n",
    "    for caption in captions:\n",
    "        print(caption)\n",
    "    y_pred = predict_caption(model, features[image_name], tokenizer, max_length)\n",
    "    print('-' * 20 + 'Predicted' + '-' * 20)\n",
    "    print(y_pred)\n",
    "    plt.imshow(image)"
   ]
  },
  {
   "cell_type": "code",
   "execution_count": 42,
   "id": "a2ca2e3c",
   "metadata": {
    "execution": {
     "iopub.execute_input": "2023-03-11T11:11:48.430518Z",
     "iopub.status.busy": "2023-03-11T11:11:48.429372Z",
     "iopub.status.idle": "2023-03-11T11:11:52.108158Z",
     "shell.execute_reply": "2023-03-11T11:11:52.107196Z"
    },
    "papermill": {
     "duration": 4.180888,
     "end_time": "2023-03-11T11:11:52.110308",
     "exception": false,
     "start_time": "2023-03-11T11:11:47.929420",
     "status": "completed"
    },
    "tags": []
   },
   "outputs": [
    {
     "name": "stdout",
     "output_type": "stream",
     "text": [
      "1685463722_55843b6d3c.jpg\n",
      "--------------------Actual--------------------\n",
      "startseq một người phụ_nữ và hai con chó của cô đang đi trên đường endseq\n",
      "startseq một người phụ_nữ mặc quần short bị cắt đi xuống phố với một con chó endseq\n",
      "startseq người phụ_nữ mặc quần short màu xanh và áo vest màu nâu có một con chó đen bên phải của cô ấy và một con chó phía sau cô ấy endseq\n",
      "startseq người phụ_nữ đang dắt chó đi dạo endseq\n",
      "startseq người phụ_nữ và con chó đen nhỏ đi ngang vỉa_hè endseq\n",
      "--------------------Predicted--------------------\n",
      "startseq một cô gái trẻ chạy trên đường đường endseq\n"
     ]
    },
    {
     "data": {
      "image/png": "[encoded data removed]",
      "text/plain": [
       "<Figure size 432x288 with 1 Axes>"
      ]
     },
     "metadata": {
      "needs_background": "light"
     },
     "output_type": "display_data"
    }
   ],
   "source": [
    "from random import sample\n",
    "\n",
    "image_name = sample(train_imgs, 1)[0]\n",
    "print(image_name)\n",
    "generate_caption(image_name)"
   ]
  },
  {
   "cell_type": "code",
   "execution_count": 43,
   "id": "d882e2e0",
   "metadata": {
    "execution": {
     "iopub.execute_input": "2023-03-11T11:11:53.204601Z",
     "iopub.status.busy": "2023-03-11T11:11:53.204208Z",
     "iopub.status.idle": "2023-03-11T11:11:53.208498Z",
     "shell.execute_reply": "2023-03-11T11:11:53.207494Z"
    },
    "papermill": {
     "duration": 0.534207,
     "end_time": "2023-03-11T11:11:53.210709",
     "exception": false,
     "start_time": "2023-03-11T11:11:52.676502",
     "status": "completed"
    },
    "tags": []
   },
   "outputs": [],
   "source": [
    "# Save model\n",
    "# model.save(\"best_model.h5\")"
   ]
  },
  {
   "cell_type": "code",
   "execution_count": 44,
   "id": "631d90cd",
   "metadata": {
    "execution": {
     "iopub.execute_input": "2023-03-11T11:11:54.407216Z",
     "iopub.status.busy": "2023-03-11T11:11:54.406845Z",
     "iopub.status.idle": "2023-03-11T11:11:54.411132Z",
     "shell.execute_reply": "2023-03-11T11:11:54.410178Z"
    },
    "papermill": {
     "duration": 0.674388,
     "end_time": "2023-03-11T11:11:54.413220",
     "exception": false,
     "start_time": "2023-03-11T11:11:53.738832",
     "status": "completed"
    },
    "tags": []
   },
   "outputs": [],
   "source": [
    "# Load model\n",
    "# from tensorflow.keras.models import load_model\n",
    "# model.load_weights(\"../input/filck8khoangchi/best_model.h5\")"
   ]
  }
 ],
 "metadata": {
  "kernelspec": {
   "display_name": "Python 3",
   "language": "python",
   "name": "python3"
  },
  "language_info": {
   "codemirror_mode": {
    "name": "ipython",
    "version": 3
   },
   "file_extension": ".py",
   "mimetype": "text/x-python",
   "name": "python",
   "nbconvert_exporter": "python",
   "pygments_lexer": "ipython3",
   "version": "3.7.12"
  },
  "papermill": {
   "default_parameters": {},
   "duration": 6002.261174,
   "end_time": "2023-03-11T11:11:57.996215",
   "environment_variables": {},
   "exception": null,
   "input_path": "__notebook__.ipynb",
   "output_path": "__notebook__.ipynb",
   "parameters": {},
   "start_time": "2023-03-11T09:31:55.735041",
   "version": "2.3.4"
  },
  "widgets": {
   "application/vnd.jupyter.widget-state+json": {
    "state": {
     "1578f91f12f84eddb2086ab71007b5af": {
      "model_module": "@jupyter-widgets/controls",
      "model_module_version": "1.5.0",
      "model_name": "HTMLModel",
      "state": {
       "_dom_classes": [],
       "_model_module": "@jupyter-widgets/controls",
       "_model_module_version": "1.5.0",
       "_model_name": "HTMLModel",
       "_view_count": null,
       "_view_module": "@jupyter-widgets/controls",
       "_view_module_version": "1.5.0",
       "_view_name": "HTMLView",
       "description": "",
       "description_tooltip": null,
       "layout": "IPY_MODEL_c77c086042ab4fbc82adfd298b23d72c",
       "placeholder": "​",
       "style": "IPY_MODEL_7c4c395b3e9f4cb383a1d5534fe08421",
       "value": "100%"
      }
     },
     "1e937d76e14b4f0ab23ed6ebd04c6ffd": {
      "model_module": "@jupyter-widgets/controls",
      "model_module_version": "1.5.0",
      "model_name": "ProgressStyleModel",
      "state": {
       "_model_module": "@jupyter-widgets/controls",
       "_model_module_version": "1.5.0",
       "_model_name": "ProgressStyleModel",
       "_view_count": null,
       "_view_module": "@jupyter-widgets/base",
       "_view_module_version": "1.2.0",
       "_view_name": "StyleView",
       "bar_color": null,
       "description_width": ""
      }
     },
     "2bf604a3e0b64951957d78c460128cc9": {
      "model_module": "@jupyter-widgets/controls",
      "model_module_version": "1.5.0",
      "model_name": "HBoxModel",
      "state": {
       "_dom_classes": [],
       "_model_module": "@jupyter-widgets/controls",
       "_model_module_version": "1.5.0",
       "_model_name": "HBoxModel",
       "_view_count": null,
       "_view_module": "@jupyter-widgets/controls",
       "_view_module_version": "1.5.0",
       "_view_name": "HBoxView",
       "box_style": "",
       "children": [
        "IPY_MODEL_1578f91f12f84eddb2086ab71007b5af",
        "IPY_MODEL_f613990145304d32b9f61ad1f99e034c",
        "IPY_MODEL_80113b804513462daa450e4f8e343ad5"
       ],
       "layout": "IPY_MODEL_ad7367fc14614392bed7e9501083f47d"
      }
     },
     "37fd65a156484cbca508b73022a88ab3": {
      "model_module": "@jupyter-widgets/controls",
      "model_module_version": "1.5.0",
      "model_name": "HTMLModel",
      "state": {
       "_dom_classes": [],
       "_model_module": "@jupyter-widgets/controls",
       "_model_module_version": "1.5.0",
       "_model_name": "HTMLModel",
       "_view_count": null,
       "_view_module": "@jupyter-widgets/controls",
       "_view_module_version": "1.5.0",
       "_view_name": "HTMLView",
       "description": "",
       "description_tooltip": null,
       "layout": "IPY_MODEL_8bad56a6a56e4cbda6d854493cfdad11",
       "placeholder": "​",
       "style": "IPY_MODEL_e54c3b956e3d4b8a96b847266fccda28",
       "value": "100%"
      }
     },
     "49cb1f621ab44b11b076784afaabd0dc": {
      "model_module": "@jupyter-widgets/base",
      "model_module_version": "1.2.0",
      "model_name": "LayoutModel",
      "state": {
       "_model_module": "@jupyter-widgets/base",
       "_model_module_version": "1.2.0",
       "_model_name": "LayoutModel",
       "_view_count": null,
       "_view_module": "@jupyter-widgets/base",
       "_view_module_version": "1.2.0",
       "_view_name": "LayoutView",
       "align_content": null,
       "align_items": null,
       "align_self": null,
       "border": null,
       "bottom": null,
       "display": null,
       "flex": null,
       "flex_flow": null,
       "grid_area": null,
       "grid_auto_columns": null,
       "grid_auto_flow": null,
       "grid_auto_rows": null,
       "grid_column": null,
       "grid_gap": null,
       "grid_row": null,
       "grid_template_areas": null,
       "grid_template_columns": null,
       "grid_template_rows": null,
       "height": null,
       "justify_content": null,
       "justify_items": null,
       "left": null,
       "margin": null,
       "max_height": null,
       "max_width": null,
       "min_height": null,
       "min_width": null,
       "object_fit": null,
       "object_position": null,
       "order": null,
       "overflow": null,
       "overflow_x": null,
       "overflow_y": null,
       "padding": null,
       "right": null,
       "top": null,
       "visibility": null,
       "width": null
      }
     },
     "542c64954a084c2dbef72c643c316072": {
      "model_module": "@jupyter-widgets/controls",
      "model_module_version": "1.5.0",
      "model_name": "DescriptionStyleModel",
      "state": {
       "_model_module": "@jupyter-widgets/controls",
       "_model_module_version": "1.5.0",
       "_model_name": "DescriptionStyleModel",
       "_view_count": null,
       "_view_module": "@jupyter-widgets/base",
       "_view_module_version": "1.2.0",
       "_view_name": "StyleView",
       "description_width": ""
      }
     },
     "65bbcdf37855460aaf201356254787da": {
      "model_module": "@jupyter-widgets/base",
      "model_module_version": "1.2.0",
      "model_name": "LayoutModel",
      "state": {
       "_model_module": "@jupyter-widgets/base",
       "_model_module_version": "1.2.0",
       "_model_name": "LayoutModel",
       "_view_count": null,
       "_view_module": "@jupyter-widgets/base",
       "_view_module_version": "1.2.0",
       "_view_name": "LayoutView",
       "align_content": null,
       "align_items": null,
       "align_self": null,
       "border": null,
       "bottom": null,
       "display": null,
       "flex": null,
       "flex_flow": null,
       "grid_area": null,
       "grid_auto_columns": null,
       "grid_auto_flow": null,
       "grid_auto_rows": null,
       "grid_column": null,
       "grid_gap": null,
       "grid_row": null,
       "grid_template_areas": null,
       "grid_template_columns": null,
       "grid_template_rows": null,
       "height": null,
       "justify_content": null,
       "justify_items": null,
       "left": null,
       "margin": null,
       "max_height": null,
       "max_width": null,
       "min_height": null,
       "min_width": null,
       "object_fit": null,
       "object_position": null,
       "order": null,
       "overflow": null,
       "overflow_x": null,
       "overflow_y": null,
       "padding": null,
       "right": null,
       "top": null,
       "visibility": null,
       "width": null
      }
     },
     "66238b7f7a9d4542b0b9c90721ef0f74": {
      "model_module": "@jupyter-widgets/base",
      "model_module_version": "1.2.0",
      "model_name": "LayoutModel",
      "state": {
       "_model_module": "@jupyter-widgets/base",
       "_model_module_version": "1.2.0",
       "_model_name": "LayoutModel",
       "_view_count": null,
       "_view_module": "@jupyter-widgets/base",
       "_view_module_version": "1.2.0",
       "_view_name": "LayoutView",
       "align_content": null,
       "align_items": null,
       "align_self": null,
       "border": null,
       "bottom": null,
       "display": null,
       "flex": null,
       "flex_flow": null,
       "grid_area": null,
       "grid_auto_columns": null,
       "grid_auto_flow": null,
       "grid_auto_rows": null,
       "grid_column": null,
       "grid_gap": null,
       "grid_row": null,
       "grid_template_areas": null,
       "grid_template_columns": null,
       "grid_template_rows": null,
       "height": null,
       "justify_content": null,
       "justify_items": null,
       "left": null,
       "margin": null,
       "max_height": null,
       "max_width": null,
       "min_height": null,
       "min_width": null,
       "object_fit": null,
       "object_position": null,
       "order": null,
       "overflow": null,
       "overflow_x": null,
       "overflow_y": null,
       "padding": null,
       "right": null,
       "top": null,
       "visibility": null,
       "width": null
      }
     },
     "7c4c395b3e9f4cb383a1d5534fe08421": {
      "model_module": "@jupyter-widgets/controls",
      "model_module_version": "1.5.0",
      "model_name": "DescriptionStyleModel",
      "state": {
       "_model_module": "@jupyter-widgets/controls",
       "_model_module_version": "1.5.0",
       "_model_name": "DescriptionStyleModel",
       "_view_count": null,
       "_view_module": "@jupyter-widgets/base",
       "_view_module_version": "1.2.0",
       "_view_name": "StyleView",
       "description_width": ""
      }
     },
     "80113b804513462daa450e4f8e343ad5": {
      "model_module": "@jupyter-widgets/controls",
      "model_module_version": "1.5.0",
      "model_name": "HTMLModel",
      "state": {
       "_dom_classes": [],
       "_model_module": "@jupyter-widgets/controls",
       "_model_module_version": "1.5.0",
       "_model_name": "HTMLModel",
       "_view_count": null,
       "_view_module": "@jupyter-widgets/controls",
       "_view_module_version": "1.5.0",
       "_view_name": "HTMLView",
       "description": "",
       "description_tooltip": null,
       "layout": "IPY_MODEL_49cb1f621ab44b11b076784afaabd0dc",
       "placeholder": "​",
       "style": "IPY_MODEL_542c64954a084c2dbef72c643c316072",
       "value": " 8091/8091 [08:43&lt;00:00, 12.88it/s]"
      }
     },
     "8bad56a6a56e4cbda6d854493cfdad11": {
      "model_module": "@jupyter-widgets/base",
      "model_module_version": "1.2.0",
      "model_name": "LayoutModel",
      "state": {
       "_model_module": "@jupyter-widgets/base",
       "_model_module_version": "1.2.0",
       "_model_name": "LayoutModel",
       "_view_count": null,
       "_view_module": "@jupyter-widgets/base",
       "_view_module_version": "1.2.0",
       "_view_name": "LayoutView",
       "align_content": null,
       "align_items": null,
       "align_self": null,
       "border": null,
       "bottom": null,
       "display": null,
       "flex": null,
       "flex_flow": null,
       "grid_area": null,
       "grid_auto_columns": null,
       "grid_auto_flow": null,
       "grid_auto_rows": null,
       "grid_column": null,
       "grid_gap": null,
       "grid_row": null,
       "grid_template_areas": null,
       "grid_template_columns": null,
       "grid_template_rows": null,
       "height": null,
       "justify_content": null,
       "justify_items": null,
       "left": null,
       "margin": null,
       "max_height": null,
       "max_width": null,
       "min_height": null,
       "min_width": null,
       "object_fit": null,
       "object_position": null,
       "order": null,
       "overflow": null,
       "overflow_x": null,
       "overflow_y": null,
       "padding": null,
       "right": null,
       "top": null,
       "visibility": null,
       "width": null
      }
     },
     "90e67e8749044fcf8b920362482aa19a": {
      "model_module": "@jupyter-widgets/controls",
      "model_module_version": "1.5.0",
      "model_name": "DescriptionStyleModel",
      "state": {
       "_model_module": "@jupyter-widgets/controls",
       "_model_module_version": "1.5.0",
       "_model_name": "DescriptionStyleModel",
       "_view_count": null,
       "_view_module": "@jupyter-widgets/base",
       "_view_module_version": "1.2.0",
       "_view_name": "StyleView",
       "description_width": ""
      }
     },
     "acc783927ec9448b8a74dbe0310d5b85": {
      "model_module": "@jupyter-widgets/controls",
      "model_module_version": "1.5.0",
      "model_name": "HBoxModel",
      "state": {
       "_dom_classes": [],
       "_model_module": "@jupyter-widgets/controls",
       "_model_module_version": "1.5.0",
       "_model_name": "HBoxModel",
       "_view_count": null,
       "_view_module": "@jupyter-widgets/controls",
       "_view_module_version": "1.5.0",
       "_view_name": "HBoxView",
       "box_style": "",
       "children": [
        "IPY_MODEL_37fd65a156484cbca508b73022a88ab3",
        "IPY_MODEL_f7051984e1ff4dac8c859fcb9de55d92",
        "IPY_MODEL_d1729cb9a59d4b1e81cee322b584a4b0"
       ],
       "layout": "IPY_MODEL_66238b7f7a9d4542b0b9c90721ef0f74"
      }
     },
     "ad7367fc14614392bed7e9501083f47d": {
      "model_module": "@jupyter-widgets/base",
      "model_module_version": "1.2.0",
      "model_name": "LayoutModel",
      "state": {
       "_model_module": "@jupyter-widgets/base",
       "_model_module_version": "1.2.0",
       "_model_name": "LayoutModel",
       "_view_count": null,
       "_view_module": "@jupyter-widgets/base",
       "_view_module_version": "1.2.0",
       "_view_name": "LayoutView",
       "align_content": null,
       "align_items": null,
       "align_self": null,
       "border": null,
       "bottom": null,
       "display": null,
       "flex": null,
       "flex_flow": null,
       "grid_area": null,
       "grid_auto_columns": null,
       "grid_auto_flow": null,
       "grid_auto_rows": null,
       "grid_column": null,
       "grid_gap": null,
       "grid_row": null,
       "grid_template_areas": null,
       "grid_template_columns": null,
       "grid_template_rows": null,
       "height": null,
       "justify_content": null,
       "justify_items": null,
       "left": null,
       "margin": null,
       "max_height": null,
       "max_width": null,
       "min_height": null,
       "min_width": null,
       "object_fit": null,
       "object_position": null,
       "order": null,
       "overflow": null,
       "overflow_x": null,
       "overflow_y": null,
       "padding": null,
       "right": null,
       "top": null,
       "visibility": null,
       "width": null
      }
     },
     "ae137c039aeb4417a03a11b66fdcdb87": {
      "model_module": "@jupyter-widgets/controls",
      "model_module_version": "1.5.0",
      "model_name": "ProgressStyleModel",
      "state": {
       "_model_module": "@jupyter-widgets/controls",
       "_model_module_version": "1.5.0",
       "_model_name": "ProgressStyleModel",
       "_view_count": null,
       "_view_module": "@jupyter-widgets/base",
       "_view_module_version": "1.2.0",
       "_view_name": "StyleView",
       "bar_color": null,
       "description_width": ""
      }
     },
     "afcc891d195b4edb8627514af663ec0f": {
      "model_module": "@jupyter-widgets/base",
      "model_module_version": "1.2.0",
      "model_name": "LayoutModel",
      "state": {
       "_model_module": "@jupyter-widgets/base",
       "_model_module_version": "1.2.0",
       "_model_name": "LayoutModel",
       "_view_count": null,
       "_view_module": "@jupyter-widgets/base",
       "_view_module_version": "1.2.0",
       "_view_name": "LayoutView",
       "align_content": null,
       "align_items": null,
       "align_self": null,
       "border": null,
       "bottom": null,
       "display": null,
       "flex": null,
       "flex_flow": null,
       "grid_area": null,
       "grid_auto_columns": null,
       "grid_auto_flow": null,
       "grid_auto_rows": null,
       "grid_column": null,
       "grid_gap": null,
       "grid_row": null,
       "grid_template_areas": null,
       "grid_template_columns": null,
       "grid_template_rows": null,
       "height": null,
       "justify_content": null,
       "justify_items": null,
       "left": null,
       "margin": null,
       "max_height": null,
       "max_width": null,
       "min_height": null,
       "min_width": null,
       "object_fit": null,
       "object_position": null,
       "order": null,
       "overflow": null,
       "overflow_x": null,
       "overflow_y": null,
       "padding": null,
       "right": null,
       "top": null,
       "visibility": null,
       "width": null
      }
     },
     "c77c086042ab4fbc82adfd298b23d72c": {
      "model_module": "@jupyter-widgets/base",
      "model_module_version": "1.2.0",
      "model_name": "LayoutModel",
      "state": {
       "_model_module": "@jupyter-widgets/base",
       "_model_module_version": "1.2.0",
       "_model_name": "LayoutModel",
       "_view_count": null,
       "_view_module": "@jupyter-widgets/base",
       "_view_module_version": "1.2.0",
       "_view_name": "LayoutView",
       "align_content": null,
       "align_items": null,
       "align_self": null,
       "border": null,
       "bottom": null,
       "display": null,
       "flex": null,
       "flex_flow": null,
       "grid_area": null,
       "grid_auto_columns": null,
       "grid_auto_flow": null,
       "grid_auto_rows": null,
       "grid_column": null,
       "grid_gap": null,
       "grid_row": null,
       "grid_template_areas": null,
       "grid_template_columns": null,
       "grid_template_rows": null,
       "height": null,
       "justify_content": null,
       "justify_items": null,
       "left": null,
       "margin": null,
       "max_height": null,
       "max_width": null,
       "min_height": null,
       "min_width": null,
       "object_fit": null,
       "object_position": null,
       "order": null,
       "overflow": null,
       "overflow_x": null,
       "overflow_y": null,
       "padding": null,
       "right": null,
       "top": null,
       "visibility": null,
       "width": null
      }
     },
     "d1729cb9a59d4b1e81cee322b584a4b0": {
      "model_module": "@jupyter-widgets/controls",
      "model_module_version": "1.5.0",
      "model_name": "HTMLModel",
      "state": {
       "_dom_classes": [],
       "_model_module": "@jupyter-widgets/controls",
       "_model_module_version": "1.5.0",
       "_model_name": "HTMLModel",
       "_view_count": null,
       "_view_module": "@jupyter-widgets/controls",
       "_view_module_version": "1.5.0",
       "_view_name": "HTMLView",
       "description": "",
       "description_tooltip": null,
       "layout": "IPY_MODEL_65bbcdf37855460aaf201356254787da",
       "placeholder": "​",
       "style": "IPY_MODEL_90e67e8749044fcf8b920362482aa19a",
       "value": " 2000/2000 [31:29&lt;00:00,  1.06it/s]"
      }
     },
     "e54c3b956e3d4b8a96b847266fccda28": {
      "model_module": "@jupyter-widgets/controls",
      "model_module_version": "1.5.0",
      "model_name": "DescriptionStyleModel",
      "state": {
       "_model_module": "@jupyter-widgets/controls",
       "_model_module_version": "1.5.0",
       "_model_name": "DescriptionStyleModel",
       "_view_count": null,
       "_view_module": "@jupyter-widgets/base",
       "_view_module_version": "1.2.0",
       "_view_name": "StyleView",
       "description_width": ""
      }
     },
     "f227cb44812e48f9be530e83a811c0d9": {
      "model_module": "@jupyter-widgets/base",
      "model_module_version": "1.2.0",
      "model_name": "LayoutModel",
      "state": {
       "_model_module": "@jupyter-widgets/base",
       "_model_module_version": "1.2.0",
       "_model_name": "LayoutModel",
       "_view_count": null,
       "_view_module": "@jupyter-widgets/base",
       "_view_module_version": "1.2.0",
       "_view_name": "LayoutView",
       "align_content": null,
       "align_items": null,
       "align_self": null,
       "border": null,
       "bottom": null,
       "display": null,
       "flex": null,
       "flex_flow": null,
       "grid_area": null,
       "grid_auto_columns": null,
       "grid_auto_flow": null,
       "grid_auto_rows": null,
       "grid_column": null,
       "grid_gap": null,
       "grid_row": null,
       "grid_template_areas": null,
       "grid_template_columns": null,
       "grid_template_rows": null,
       "height": null,
       "justify_content": null,
       "justify_items": null,
       "left": null,
       "margin": null,
       "max_height": null,
       "max_width": null,
       "min_height": null,
       "min_width": null,
       "object_fit": null,
       "object_position": null,
       "order": null,
       "overflow": null,
       "overflow_x": null,
       "overflow_y": null,
       "padding": null,
       "right": null,
       "top": null,
       "visibility": null,
       "width": null
      }
     },
     "f613990145304d32b9f61ad1f99e034c": {
      "model_module": "@jupyter-widgets/controls",
      "model_module_version": "1.5.0",
      "model_name": "FloatProgressModel",
      "state": {
       "_dom_classes": [],
       "_model_module": "@jupyter-widgets/controls",
       "_model_module_version": "1.5.0",
       "_model_name": "FloatProgressModel",
       "_view_count": null,
       "_view_module": "@jupyter-widgets/controls",
       "_view_module_version": "1.5.0",
       "_view_name": "ProgressView",
       "bar_style": "success",
       "description": "",
       "description_tooltip": null,
       "layout": "IPY_MODEL_afcc891d195b4edb8627514af663ec0f",
       "max": 8091.0,
       "min": 0.0,
       "orientation": "horizontal",
       "style": "IPY_MODEL_1e937d76e14b4f0ab23ed6ebd04c6ffd",
       "value": 8091.0
      }
     },
     "f7051984e1ff4dac8c859fcb9de55d92": {
      "model_module": "@jupyter-widgets/controls",
      "model_module_version": "1.5.0",
      "model_name": "FloatProgressModel",
      "state": {
       "_dom_classes": [],
       "_model_module": "@jupyter-widgets/controls",
       "_model_module_version": "1.5.0",
       "_model_name": "FloatProgressModel",
       "_view_count": null,
       "_view_module": "@jupyter-widgets/controls",
       "_view_module_version": "1.5.0",
       "_view_name": "ProgressView",
       "bar_style": "success",
       "description": "",
       "description_tooltip": null,
       "layout": "IPY_MODEL_f227cb44812e48f9be530e83a811c0d9",
       "max": 2000.0,
       "min": 0.0,
       "orientation": "horizontal",
       "style": "IPY_MODEL_ae137c039aeb4417a03a11b66fdcdb87",
       "value": 2000.0
      }
     }
    },
    "version_major": 2,
    "version_minor": 0
   }
  }
 },
 "nbformat": 4,
 "nbformat_minor": 5
}
